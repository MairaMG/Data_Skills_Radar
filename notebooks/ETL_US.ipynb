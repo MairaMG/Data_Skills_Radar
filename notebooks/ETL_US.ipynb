{
 "cells": [
  {
   "cell_type": "code",
   "execution_count": 1,
   "id": "00993d2d",
   "metadata": {},
   "outputs": [],
   "source": [
    "import pandas as pd\n",
    "import numpy as np\n",
    "import re\n",
    "import os\n",
    "import datetime\n",
    "import matplotlib.pyplot as plt\n"
   ]
  },
  {
   "cell_type": "code",
   "execution_count": 2,
   "id": "1709eefb",
   "metadata": {
    "scrolled": true
   },
   "outputs": [],
   "source": [
    "df = pd.read_csv('../data/gsearch_jobs.csv')"
   ]
  },
  {
   "cell_type": "code",
   "execution_count": 3,
   "id": "3e57d96b",
   "metadata": {},
   "outputs": [
    {
     "data": {
      "text/plain": [
       "(36470, 27)"
      ]
     },
     "execution_count": 3,
     "metadata": {},
     "output_type": "execute_result"
    }
   ],
   "source": [
    "df.shape"
   ]
  },
  {
   "cell_type": "code",
   "execution_count": 4,
   "id": "3c0eb5e6",
   "metadata": {
    "scrolled": true
   },
   "outputs": [
    {
     "data": {
      "text/html": [
       "<div>\n",
       "<style scoped>\n",
       "    .dataframe tbody tr th:only-of-type {\n",
       "        vertical-align: middle;\n",
       "    }\n",
       "\n",
       "    .dataframe tbody tr th {\n",
       "        vertical-align: top;\n",
       "    }\n",
       "\n",
       "    .dataframe thead th {\n",
       "        text-align: right;\n",
       "    }\n",
       "</style>\n",
       "<table border=\"1\" class=\"dataframe\">\n",
       "  <thead>\n",
       "    <tr style=\"text-align: right;\">\n",
       "      <th></th>\n",
       "      <th>Unnamed: 0</th>\n",
       "      <th>index</th>\n",
       "      <th>title</th>\n",
       "      <th>company_name</th>\n",
       "      <th>location</th>\n",
       "      <th>via</th>\n",
       "      <th>description</th>\n",
       "      <th>extensions</th>\n",
       "      <th>job_id</th>\n",
       "      <th>thumbnail</th>\n",
       "      <th>...</th>\n",
       "      <th>commute_time</th>\n",
       "      <th>salary_pay</th>\n",
       "      <th>salary_rate</th>\n",
       "      <th>salary_avg</th>\n",
       "      <th>salary_min</th>\n",
       "      <th>salary_max</th>\n",
       "      <th>salary_hourly</th>\n",
       "      <th>salary_yearly</th>\n",
       "      <th>salary_standardized</th>\n",
       "      <th>description_tokens</th>\n",
       "    </tr>\n",
       "  </thead>\n",
       "  <tbody>\n",
       "    <tr>\n",
       "      <th>27593</th>\n",
       "      <td>27593</td>\n",
       "      <td>425</td>\n",
       "      <td>Jr. Data Analyst</td>\n",
       "      <td>Dice</td>\n",
       "      <td>Anywhere</td>\n",
       "      <td>via LinkedIn</td>\n",
       "      <td>Dice is the leading career destination for tec...</td>\n",
       "      <td>['7 hours ago', 'Work from home', 'Full-time']</td>\n",
       "      <td>eyJqb2JfdGl0bGUiOiJKci4gRGF0YSBBbmFseXN0IiwiaH...</td>\n",
       "      <td>https://encrypted-tbn0.gstatic.com/images?q=tb...</td>\n",
       "      <td>...</td>\n",
       "      <td>NaN</td>\n",
       "      <td>NaN</td>\n",
       "      <td>NaN</td>\n",
       "      <td>NaN</td>\n",
       "      <td>NaN</td>\n",
       "      <td>NaN</td>\n",
       "      <td>NaN</td>\n",
       "      <td>NaN</td>\n",
       "      <td>NaN</td>\n",
       "      <td>['sql', 'excel']</td>\n",
       "    </tr>\n",
       "    <tr>\n",
       "      <th>3559</th>\n",
       "      <td>3559</td>\n",
       "      <td>1487</td>\n",
       "      <td>Marketing Analyst</td>\n",
       "      <td>On-Board Companies</td>\n",
       "      <td>United States</td>\n",
       "      <td>via BeBee</td>\n",
       "      <td>On-Board Services is hiring a Marketing Analys...</td>\n",
       "      <td>['23 hours ago', 'Full-time and Contractor', '...</td>\n",
       "      <td>eyJqb2JfdGl0bGUiOiJNYXJrZXRpbmcgQW5hbHlzdCIsIm...</td>\n",
       "      <td>https://encrypted-tbn0.gstatic.com/images?q=tb...</td>\n",
       "      <td>...</td>\n",
       "      <td>NaN</td>\n",
       "      <td>NaN</td>\n",
       "      <td>NaN</td>\n",
       "      <td>NaN</td>\n",
       "      <td>NaN</td>\n",
       "      <td>NaN</td>\n",
       "      <td>NaN</td>\n",
       "      <td>NaN</td>\n",
       "      <td>NaN</td>\n",
       "      <td>['sharepoint']</td>\n",
       "    </tr>\n",
       "    <tr>\n",
       "      <th>20138</th>\n",
       "      <td>20138</td>\n",
       "      <td>718</td>\n",
       "      <td>Operations Data Analyst</td>\n",
       "      <td>Google Inc</td>\n",
       "      <td>Kansas City, KS</td>\n",
       "      <td>via Jora</td>\n",
       "      <td>At GFiber, we believe in the power of great in...</td>\n",
       "      <td>['13 hours ago', 'Full-time', 'No degree menti...</td>\n",
       "      <td>eyJqb2JfdGl0bGUiOiJPcGVyYXRpb25zIERhdGEgQW5hbH...</td>\n",
       "      <td>NaN</td>\n",
       "      <td>...</td>\n",
       "      <td>NaN</td>\n",
       "      <td>NaN</td>\n",
       "      <td>NaN</td>\n",
       "      <td>NaN</td>\n",
       "      <td>NaN</td>\n",
       "      <td>NaN</td>\n",
       "      <td>NaN</td>\n",
       "      <td>NaN</td>\n",
       "      <td>NaN</td>\n",
       "      <td>['python', 'excel', 'sql']</td>\n",
       "    </tr>\n",
       "  </tbody>\n",
       "</table>\n",
       "<p>3 rows × 27 columns</p>\n",
       "</div>"
      ],
      "text/plain": [
       "       Unnamed: 0  index                    title        company_name  \\\n",
       "27593       27593    425         Jr. Data Analyst                Dice   \n",
       "3559         3559   1487        Marketing Analyst  On-Board Companies   \n",
       "20138       20138    718  Operations Data Analyst          Google Inc   \n",
       "\n",
       "                   location           via  \\\n",
       "27593              Anywhere  via LinkedIn   \n",
       "3559       United States        via BeBee   \n",
       "20138    Kansas City, KS         via Jora   \n",
       "\n",
       "                                             description  \\\n",
       "27593  Dice is the leading career destination for tec...   \n",
       "3559   On-Board Services is hiring a Marketing Analys...   \n",
       "20138  At GFiber, we believe in the power of great in...   \n",
       "\n",
       "                                              extensions  \\\n",
       "27593     ['7 hours ago', 'Work from home', 'Full-time']   \n",
       "3559   ['23 hours ago', 'Full-time and Contractor', '...   \n",
       "20138  ['13 hours ago', 'Full-time', 'No degree menti...   \n",
       "\n",
       "                                                  job_id  \\\n",
       "27593  eyJqb2JfdGl0bGUiOiJKci4gRGF0YSBBbmFseXN0IiwiaH...   \n",
       "3559   eyJqb2JfdGl0bGUiOiJNYXJrZXRpbmcgQW5hbHlzdCIsIm...   \n",
       "20138  eyJqb2JfdGl0bGUiOiJPcGVyYXRpb25zIERhdGEgQW5hbH...   \n",
       "\n",
       "                                               thumbnail  ... commute_time  \\\n",
       "27593  https://encrypted-tbn0.gstatic.com/images?q=tb...  ...          NaN   \n",
       "3559   https://encrypted-tbn0.gstatic.com/images?q=tb...  ...          NaN   \n",
       "20138                                                NaN  ...          NaN   \n",
       "\n",
       "      salary_pay salary_rate salary_avg salary_min salary_max salary_hourly  \\\n",
       "27593        NaN         NaN        NaN        NaN        NaN           NaN   \n",
       "3559         NaN         NaN        NaN        NaN        NaN           NaN   \n",
       "20138        NaN         NaN        NaN        NaN        NaN           NaN   \n",
       "\n",
       "       salary_yearly salary_standardized          description_tokens  \n",
       "27593            NaN                 NaN            ['sql', 'excel']  \n",
       "3559             NaN                 NaN              ['sharepoint']  \n",
       "20138            NaN                 NaN  ['python', 'excel', 'sql']  \n",
       "\n",
       "[3 rows x 27 columns]"
      ]
     },
     "execution_count": 4,
     "metadata": {},
     "output_type": "execute_result"
    }
   ],
   "source": [
    "df.sample(3)"
   ]
  },
  {
   "cell_type": "markdown",
   "id": "853deebf",
   "metadata": {},
   "source": [
    "## Drop columns"
   ]
  },
  {
   "cell_type": "code",
   "execution_count": 5,
   "id": "0d2dc4fb",
   "metadata": {},
   "outputs": [],
   "source": [
    "columns_to_drop = ['Unnamed: 0','index','thumbnail','posted_at','commute_time','search_location','search_term','salary','salary_pay','salary_rate','salary_min','salary_max','salary_avg','salary_hourly','salary_yearly','extensions']\n",
    "df.drop(columns=columns_to_drop, inplace=True)"
   ]
  },
  {
   "cell_type": "markdown",
   "id": "e4ed9042",
   "metadata": {},
   "source": [
    "## Drop duplicated rows"
   ]
  },
  {
   "cell_type": "code",
   "execution_count": 6,
   "id": "791d2139",
   "metadata": {},
   "outputs": [
    {
     "data": {
      "text/html": [
       "<div>\n",
       "<style scoped>\n",
       "    .dataframe tbody tr th:only-of-type {\n",
       "        vertical-align: middle;\n",
       "    }\n",
       "\n",
       "    .dataframe tbody tr th {\n",
       "        vertical-align: top;\n",
       "    }\n",
       "\n",
       "    .dataframe thead th {\n",
       "        text-align: right;\n",
       "    }\n",
       "</style>\n",
       "<table border=\"1\" class=\"dataframe\">\n",
       "  <thead>\n",
       "    <tr style=\"text-align: right;\">\n",
       "      <th></th>\n",
       "      <th>title</th>\n",
       "      <th>company_name</th>\n",
       "      <th>location</th>\n",
       "      <th>via</th>\n",
       "      <th>description</th>\n",
       "      <th>job_id</th>\n",
       "      <th>schedule_type</th>\n",
       "      <th>work_from_home</th>\n",
       "      <th>date_time</th>\n",
       "      <th>salary_standardized</th>\n",
       "      <th>description_tokens</th>\n",
       "    </tr>\n",
       "  </thead>\n",
       "  <tbody>\n",
       "    <tr>\n",
       "      <th>28628</th>\n",
       "      <td>Experience Analyst</td>\n",
       "      <td>Inclusively</td>\n",
       "      <td>United States</td>\n",
       "      <td>via LinkedIn</td>\n",
       "      <td>Inclusively is partnering with a global creati...</td>\n",
       "      <td>eyJqb2JfdGl0bGUiOiJFeHBlcmllbmNlIEFuYWx5c3QiLC...</td>\n",
       "      <td>Full-time</td>\n",
       "      <td>NaN</td>\n",
       "      <td>2023-02-07 04:00:33.888886</td>\n",
       "      <td>NaN</td>\n",
       "      <td>['powerpoint', 'tableau', 'sql', 'excel']</td>\n",
       "    </tr>\n",
       "    <tr>\n",
       "      <th>12626</th>\n",
       "      <td>Data Analyst</td>\n",
       "      <td>Upwork</td>\n",
       "      <td>United States</td>\n",
       "      <td>via BeBee</td>\n",
       "      <td>How to Become a Freelance Data Analyst\\n\\nThe ...</td>\n",
       "      <td>eyJqb2JfdGl0bGUiOiJEYXRhIEFuYWx5c3QiLCJodGlkb2...</td>\n",
       "      <td>Part-time</td>\n",
       "      <td>NaN</td>\n",
       "      <td>2023-06-12 03:01:03.756553</td>\n",
       "      <td>NaN</td>\n",
       "      <td>['tableau', 'python', 'go', 'excel', 'sql', 'p...</td>\n",
       "    </tr>\n",
       "    <tr>\n",
       "      <th>5036</th>\n",
       "      <td>Medical Informatics Analyst, Senior</td>\n",
       "      <td>Blue Shield of California</td>\n",
       "      <td>United States</td>\n",
       "      <td>via BeBee</td>\n",
       "      <td>Your Role\\n\\nThe Data &amp; Analytics (D&amp;A) team f...</td>\n",
       "      <td>eyJqb2JfdGl0bGUiOiJNZWRpY2FsIEluZm9ybWF0aWNzIE...</td>\n",
       "      <td>Full-time</td>\n",
       "      <td>NaN</td>\n",
       "      <td>2023-08-05 03:00:27.551956</td>\n",
       "      <td>NaN</td>\n",
       "      <td>['jira', 'tableau', 'python', 'r', 'sql', 'sas']</td>\n",
       "    </tr>\n",
       "  </tbody>\n",
       "</table>\n",
       "</div>"
      ],
      "text/plain": [
       "                                     title               company_name  \\\n",
       "28628                   Experience Analyst                Inclusively   \n",
       "12626                         Data Analyst                     Upwork   \n",
       "5036   Medical Informatics Analyst, Senior  Blue Shield of California   \n",
       "\n",
       "                 location           via  \\\n",
       "28628       United States  via LinkedIn   \n",
       "12626    United States        via BeBee   \n",
       "5036     United States        via BeBee   \n",
       "\n",
       "                                             description  \\\n",
       "28628  Inclusively is partnering with a global creati...   \n",
       "12626  How to Become a Freelance Data Analyst\\n\\nThe ...   \n",
       "5036   Your Role\\n\\nThe Data & Analytics (D&A) team f...   \n",
       "\n",
       "                                                  job_id schedule_type  \\\n",
       "28628  eyJqb2JfdGl0bGUiOiJFeHBlcmllbmNlIEFuYWx5c3QiLC...     Full-time   \n",
       "12626  eyJqb2JfdGl0bGUiOiJEYXRhIEFuYWx5c3QiLCJodGlkb2...     Part-time   \n",
       "5036   eyJqb2JfdGl0bGUiOiJNZWRpY2FsIEluZm9ybWF0aWNzIE...     Full-time   \n",
       "\n",
       "      work_from_home                   date_time  salary_standardized  \\\n",
       "28628            NaN  2023-02-07 04:00:33.888886                  NaN   \n",
       "12626            NaN  2023-06-12 03:01:03.756553                  NaN   \n",
       "5036             NaN  2023-08-05 03:00:27.551956                  NaN   \n",
       "\n",
       "                                      description_tokens  \n",
       "28628          ['powerpoint', 'tableau', 'sql', 'excel']  \n",
       "12626  ['tableau', 'python', 'go', 'excel', 'sql', 'p...  \n",
       "5036    ['jira', 'tableau', 'python', 'r', 'sql', 'sas']  "
      ]
     },
     "execution_count": 6,
     "metadata": {},
     "output_type": "execute_result"
    }
   ],
   "source": [
    "# Find duplicates based on 'title' and 'company' columns (in this case cannot use job_id as in some cases any minimal difference in time of publication gives a new job_id)\n",
    "duplicate_mask = df.duplicated(subset=['title', 'company_name'], keep=False)\n",
    "\n",
    "# Get both original and duplicate rows for double-check\n",
    "original_and_duplicates = df[duplicate_mask].sort_values(by=['title', 'company_name'])\n",
    "original_and_duplicates.sample(3)"
   ]
  },
  {
   "cell_type": "code",
   "execution_count": 7,
   "id": "9f4fdfa5",
   "metadata": {},
   "outputs": [],
   "source": [
    "# Drop the duplicate rows\n",
    "df.drop_duplicates(subset=['title', 'company_name'], keep='first', inplace=True)"
   ]
  },
  {
   "cell_type": "markdown",
   "id": "24c92f74",
   "metadata": {},
   "source": [
    "## Creating a New Column: \"experience_level\""
   ]
  },
  {
   "cell_type": "code",
   "execution_count": 8,
   "id": "c3bc1dc0",
   "metadata": {},
   "outputs": [],
   "source": [
    "def categorize_experience(title):\n",
    "    title_lower = title.lower()\n",
    "    if any(word in title_lower for word in [ 'intern','internship']):\n",
    "        return 'Internship'\n",
    "    elif any(word in title_lower for word in ['manager', 'executive', 'principal', 'staff']):\n",
    "        return 'Manager'\n",
    "    elif any(word in title_lower for word in ['director']):\n",
    "        return 'Director'\n",
    "    elif any(word in title_lower for word in ['mid-senior','mid level','mid-level','ii','specialist']):\n",
    "        return 'Mid-Senior'\n",
    "    elif any(word in title_lower for word in ['jr', 'jr.','junior','entry', 'associate','1']):\n",
    "        return 'Junior'\n",
    "    elif any(word in title_lower for word in ['sr.', 'sr', 'senior','exper','3','4','lead','steward']):\n",
    "        return 'Senior'\n",
    "    elif any(word in title for word in ['III','IV']):\n",
    "        return 'Senior'\n",
    "    elif 'II' in title:\n",
    "        return 'Mid-Senior'\n",
    "    elif re.search(r'\\bI\\b', title):\n",
    "        return 'Junior'\n",
    "    else:\n",
    "        return None"
   ]
  },
  {
   "cell_type": "code",
   "execution_count": 9,
   "id": "9e188915",
   "metadata": {},
   "outputs": [],
   "source": [
    "# Apply the function to create the 'experience_level' column\n",
    "df['experience_level'] = df['title'].apply(categorize_experience)"
   ]
  },
  {
   "cell_type": "code",
   "execution_count": 10,
   "id": "5548b307",
   "metadata": {
    "scrolled": false
   },
   "outputs": [
    {
     "data": {
      "text/plain": [
       "experience_level\n",
       "Senior        4796\n",
       "Junior        1250\n",
       "Mid-Senior    1221\n",
       "Manager        778\n",
       "Internship     286\n",
       "Director        86\n",
       "Name: count, dtype: int64"
      ]
     },
     "execution_count": 10,
     "metadata": {},
     "output_type": "execute_result"
    }
   ],
   "source": [
    "df['experience_level'].value_counts()"
   ]
  },
  {
   "cell_type": "code",
   "execution_count": 11,
   "id": "92e363cc",
   "metadata": {},
   "outputs": [],
   "source": [
    "df['experience_level'].fillna('Not-Specified', inplace=True)"
   ]
  },
  {
   "cell_type": "markdown",
   "id": "07844a0b",
   "metadata": {},
   "source": [
    "## Cleaning column: \"title\""
   ]
  },
  {
   "cell_type": "code",
   "execution_count": 12,
   "id": "c12302e1",
   "metadata": {},
   "outputs": [],
   "source": [
    "def clean_title(title):\n",
    "    title_lower = title.lower()\n",
    "    if 'machine' in title_lower:\n",
    "        return 'Machine Learning Engineer'\n",
    "    elif 'artificial' in title_lower or 'AI' in title or 'ML' in title:\n",
    "        return 'Machine Learning Engineer'\n",
    "    elif 'cloud' in title_lower:\n",
    "        return 'Cloud Engineer'\n",
    "    elif 'software' in title_lower:\n",
    "        return 'Software Engineer'\n",
    "    elif 'dev' in title_lower:\n",
    "        return 'Software Developer'\n",
    "    elif re.search(r'\\bBI\\b', title) or re.search(r'\\bbusiness\\s*(?!data\\s*)\\w*\\s*analyst\\b|\\bbusiness\\s*(?!data\\s*)\\w*\\s*intelligence\\b|\\bfinancial\\s*analyst\\b', title_lower):\n",
    "        return 'Business Analyst'\n",
    "    elif 'engineer' in title_lower and 'data' in title_lower:\n",
    "        return 'Data Engineer'\n",
    "    elif 'software' in title_lower:\n",
    "        return 'Software Engineer'\n",
    "    elif 'scien' in title_lower:\n",
    "        return 'Data Scientist'\n",
    "    elif re.search(r'\\bdata\\b|\\banalytics?\\b', title_lower):\n",
    "        return 'Data Analyst'\n",
    "    elif re.search(r'\\bdata\\b.*\\b(analyst|analytics|analysis)\\b|\\banalytics?\\b', title_lower):\n",
    "        return 'Data Analyst'\n",
    "    elif 'tableau' in title_lower or 'R' in title or 'forecast' in title_lower or 'excel' in title_lower or 'trends' in title_lower or 'regression' in title_lower or 'intelligence' in title_lower or 'digital' in title_lower or 'spss' in title_lower or 'numpy' in title_lower or 'data' in title_lower :\n",
    "        return 'Data Analyst'\n",
    "    elif 'system' in title_lower:\n",
    "        return 'Software Engineer'\n",
    "    elif 'program' in title_lower:\n",
    "        return 'Software Engineer'\n",
    "    elif 'backend' in title_lower:\n",
    "        return 'Software Engineer'\n",
    "    elif 'frontend' in title_lower:\n",
    "        return 'Software Engineer'\n",
    "    elif 'full' in title_lower:\n",
    "        return 'Software Engineer'\n",
    "    \n",
    "    else:\n",
    "        return None"
   ]
  },
  {
   "cell_type": "code",
   "execution_count": 13,
   "id": "fa99ed8a",
   "metadata": {},
   "outputs": [],
   "source": [
    "# Apply the function and create the 'title_cleaned' column in clear data role categories \n",
    "df.loc[:, 'title_cleaned'] = df['title'].apply(clean_title)"
   ]
  },
  {
   "cell_type": "code",
   "execution_count": 14,
   "id": "fe1ec75a",
   "metadata": {
    "scrolled": true
   },
   "outputs": [
    {
     "data": {
      "text/plain": [
       "title_cleaned\n",
       "Data Analyst                 16075\n",
       "Business Analyst              1376\n",
       "Data Scientist                1138\n",
       "Data Engineer                  599\n",
       "Software Developer             380\n",
       "Software Engineer              140\n",
       "Machine Learning Engineer      136\n",
       "Cloud Engineer                  71\n",
       "Name: count, dtype: int64"
      ]
     },
     "execution_count": 14,
     "metadata": {},
     "output_type": "execute_result"
    }
   ],
   "source": [
    "df['title_cleaned'].value_counts()"
   ]
  },
  {
   "cell_type": "code",
   "execution_count": 15,
   "id": "7bcdae6c",
   "metadata": {},
   "outputs": [
    {
     "data": {
      "text/plain": [
       "1491"
      ]
     },
     "execution_count": 15,
     "metadata": {},
     "output_type": "execute_result"
    }
   ],
   "source": [
    "df['title_cleaned'].isnull().sum()"
   ]
  },
  {
   "cell_type": "code",
   "execution_count": 16,
   "id": "51242910",
   "metadata": {},
   "outputs": [
    {
     "data": {
      "text/plain": [
       "(19915, 13)"
      ]
     },
     "execution_count": 16,
     "metadata": {},
     "output_type": "execute_result"
    }
   ],
   "source": [
    "df.dropna(subset=['title_cleaned'], inplace=True)\n",
    "df.shape"
   ]
  },
  {
   "cell_type": "markdown",
   "id": "0fb8acf1",
   "metadata": {},
   "source": [
    "## Creating a New Column: \"Role\""
   ]
  },
  {
   "cell_type": "code",
   "execution_count": 17,
   "id": "b2582b68",
   "metadata": {},
   "outputs": [],
   "source": [
    "def get_role_name(row):\n",
    "    title_cleaned = row['title_cleaned']\n",
    "    experience_level = row['experience_level']\n",
    "    \n",
    "    if experience_level == \"Not-Specified\":\n",
    "        return title_cleaned\n",
    "    elif title_cleaned is None:\n",
    "        return None\n",
    "    else:\n",
    "        return f\"{title_cleaned} {experience_level}\"\n"
   ]
  },
  {
   "cell_type": "code",
   "execution_count": 18,
   "id": "b4cf3fc8",
   "metadata": {},
   "outputs": [],
   "source": [
    "df['role'] = df.apply(get_role_name, axis=1)"
   ]
  },
  {
   "cell_type": "markdown",
   "id": "febbc1ce",
   "metadata": {},
   "source": [
    "## Cleaning column: \"location\""
   ]
  },
  {
   "cell_type": "code",
   "execution_count": 19,
   "id": "cd48cca9",
   "metadata": {},
   "outputs": [],
   "source": [
    "# Dictionary of state names and abbreviations\n",
    "state_name_to_abbreviation = {\n",
    "    'Alabama': 'AL', 'Alaska': 'AK', 'Arizona': 'AZ', 'Arkansas': 'AR', 'California': 'CA', 'Colorado': 'CO',\n",
    "    'Connecticut': 'CT', 'Delaware': 'DE', 'Florida': 'FL', 'Georgia': 'GA', 'Hawaii': 'HI', 'Idaho': 'ID',\n",
    "    'Illinois': 'IL', 'Indiana': 'IN', 'Iowa': 'IA', 'Kansas': 'KS', 'Kentucky': 'KY', 'Louisiana': 'LA',\n",
    "    'Maine': 'ME', 'Maryland': 'MD', 'Massachusetts': 'MA', 'Michigan': 'MI', 'Minnesota': 'MN',\n",
    "    'Mississippi': 'MS', 'Missouri': 'MO', 'Montana': 'MT', 'Nebraska': 'NE', 'Nevada': 'NV',\n",
    "    'New Hampshire': 'NH', 'New Jersey': 'NJ', 'New Mexico': 'NM', 'New York': 'NY', 'North Carolina': 'NC',\n",
    "    'North Dakota': 'ND', 'Ohio': 'OH', 'Oklahoma': 'OK', 'Oregon': 'OR', 'Pennsylvania': 'PA',\n",
    "    'Rhode Island': 'RI', 'South Carolina': 'SC', 'South Dakota': 'SD', 'Tennessee': 'TN', 'Texas': 'TX',\n",
    "    'Utah': 'UT', 'Vermont': 'VT', 'Virginia': 'VA', 'Washington': 'WA', 'West Virginia': 'WV', 'Wisconsin': 'WI',\n",
    "    'Wyoming': 'WY'\n",
    "}\n",
    "\n",
    "# Function to replace state names with abbreviations\n",
    "def replace_state_with_abbreviation(text):\n",
    "    if pd.isna(text):\n",
    "        return text  \n",
    "    # Removing additional text after the state abbreviation in ()\n",
    "    text = re.sub(r'\\s*\\(\\+\\d+\\s*other[s]?\\)', '', str(text))\n",
    "    for state_name, state_abbr in state_name_to_abbreviation.items():\n",
    "        if state_name.lower() in text.lower():\n",
    "            return state_abbr\n",
    "    # Return non-state values as is\n",
    "    return text  \n",
    "\n",
    "# Extract information after comma and removing leading andtrailing spaces\n",
    "df['location'] = df['location'].fillna(np.nan)  # Fill NaN values explicitly\n",
    "df['location'] = df['location'].str.split(',').str[-1].str.strip()\n",
    "\n",
    "# Replace 'Anywhere' with 'United States' \n",
    "df['location'] = df['location'].str.replace('Anywhere', 'United States', case=False)\n",
    "\n",
    "# Update the entire column to 'USA' if it contains the phrase 'United States'\n",
    "df.loc[df['location'].str.contains('United States', case=False, na=False), 'location'] = 'USA'\n",
    "\n",
    "# Replace state names with abbreviations\n",
    "df['location'] = df['location'].apply(replace_state_with_abbreviation)"
   ]
  },
  {
   "cell_type": "code",
   "execution_count": 20,
   "id": "5ab9a38c",
   "metadata": {},
   "outputs": [
    {
     "data": {
      "text/plain": [
       "14"
      ]
     },
     "execution_count": 20,
     "metadata": {},
     "output_type": "execute_result"
    }
   ],
   "source": [
    "df['location'].isnull().sum()"
   ]
  },
  {
   "cell_type": "code",
   "execution_count": 21,
   "id": "ae59655d",
   "metadata": {},
   "outputs": [],
   "source": [
    "# Evaluated case by case because they were just 14\n",
    "df['location'].fillna('KS', inplace=True)"
   ]
  },
  {
   "cell_type": "markdown",
   "id": "67f013a0",
   "metadata": {},
   "source": [
    "## Cleaning column: \"via\""
   ]
  },
  {
   "cell_type": "code",
   "execution_count": 22,
   "id": "7e3fd7f8",
   "metadata": {
    "scrolled": false
   },
   "outputs": [
    {
     "data": {
      "text/plain": [
       "1"
      ]
     },
     "execution_count": 22,
     "metadata": {},
     "output_type": "execute_result"
    }
   ],
   "source": [
    "df['via'].isnull().sum()"
   ]
  },
  {
   "cell_type": "code",
   "execution_count": 23,
   "id": "3d459e64",
   "metadata": {
    "scrolled": true
   },
   "outputs": [
    {
     "data": {
      "text/html": [
       "<div>\n",
       "<style scoped>\n",
       "    .dataframe tbody tr th:only-of-type {\n",
       "        vertical-align: middle;\n",
       "    }\n",
       "\n",
       "    .dataframe tbody tr th {\n",
       "        vertical-align: top;\n",
       "    }\n",
       "\n",
       "    .dataframe thead th {\n",
       "        text-align: right;\n",
       "    }\n",
       "</style>\n",
       "<table border=\"1\" class=\"dataframe\">\n",
       "  <thead>\n",
       "    <tr style=\"text-align: right;\">\n",
       "      <th></th>\n",
       "      <th>title</th>\n",
       "      <th>company_name</th>\n",
       "      <th>location</th>\n",
       "      <th>via</th>\n",
       "      <th>description</th>\n",
       "      <th>job_id</th>\n",
       "      <th>schedule_type</th>\n",
       "      <th>work_from_home</th>\n",
       "      <th>date_time</th>\n",
       "      <th>salary_standardized</th>\n",
       "      <th>description_tokens</th>\n",
       "      <th>experience_level</th>\n",
       "      <th>title_cleaned</th>\n",
       "      <th>role</th>\n",
       "    </tr>\n",
       "  </thead>\n",
       "  <tbody>\n",
       "    <tr>\n",
       "      <th>155</th>\n",
       "      <td>Data Analyst</td>\n",
       "      <td>Jobs Near Me</td>\n",
       "      <td>MO</td>\n",
       "      <td>NaN</td>\n",
       "      <td>Data Analyst Jobs Near Me in Joplin, Missouri\\...</td>\n",
       "      <td>eyJqb2JfdGl0bGUiOiJEYXRhIEFuYWx5c3QiLCJodGlkb2...</td>\n",
       "      <td>Full-time</td>\n",
       "      <td>NaN</td>\n",
       "      <td>2023-08-17 03:00:27.163001</td>\n",
       "      <td>31200.0</td>\n",
       "      <td>['javascript', 'sql', 'sas', 'excel', 'spss']</td>\n",
       "      <td>Not-Specified</td>\n",
       "      <td>Data Analyst</td>\n",
       "      <td>Data Analyst</td>\n",
       "    </tr>\n",
       "  </tbody>\n",
       "</table>\n",
       "</div>"
      ],
      "text/plain": [
       "            title  company_name location  via  \\\n",
       "155  Data Analyst  Jobs Near Me       MO  NaN   \n",
       "\n",
       "                                           description  \\\n",
       "155  Data Analyst Jobs Near Me in Joplin, Missouri\\...   \n",
       "\n",
       "                                                job_id schedule_type  \\\n",
       "155  eyJqb2JfdGl0bGUiOiJEYXRhIEFuYWx5c3QiLCJodGlkb2...     Full-time   \n",
       "\n",
       "    work_from_home                   date_time  salary_standardized  \\\n",
       "155            NaN  2023-08-17 03:00:27.163001              31200.0   \n",
       "\n",
       "                                description_tokens experience_level  \\\n",
       "155  ['javascript', 'sql', 'sas', 'excel', 'spss']    Not-Specified   \n",
       "\n",
       "    title_cleaned          role  \n",
       "155  Data Analyst  Data Analyst  "
      ]
     },
     "execution_count": 23,
     "metadata": {},
     "output_type": "execute_result"
    }
   ],
   "source": [
    "null_locations = df[df['via'].isnull()]\n",
    "null_locations"
   ]
  },
  {
   "cell_type": "code",
   "execution_count": 24,
   "id": "fd652bfd",
   "metadata": {},
   "outputs": [],
   "source": [
    "df['via'].fillna('Linkedin', inplace=True)"
   ]
  },
  {
   "cell_type": "code",
   "execution_count": 25,
   "id": "73fb2a94",
   "metadata": {},
   "outputs": [],
   "source": [
    "# Getting rid of 'via' at the beginning of the strings\n",
    "df['via'] = df['via'].str.replace(r'^via', '', regex=True).str.strip()"
   ]
  },
  {
   "cell_type": "code",
   "execution_count": 26,
   "id": "539742f4",
   "metadata": {
    "scrolled": false
   },
   "outputs": [
    {
     "data": {
      "text/plain": [
       "via\n",
       "LinkedIn       7326\n",
       "Upwork         3505\n",
       "BeBee          2281\n",
       "Trabajo.org    1466\n",
       "Indeed         1169\n",
       "Name: count, dtype: int64"
      ]
     },
     "execution_count": 26,
     "metadata": {},
     "output_type": "execute_result"
    }
   ],
   "source": [
    "# Top 5 job search websites\n",
    "df['via'].value_counts().head(5)"
   ]
  },
  {
   "cell_type": "markdown",
   "id": "9b732d6c",
   "metadata": {},
   "source": [
    "## Cleaning column: \"schedule_type\""
   ]
  },
  {
   "cell_type": "code",
   "execution_count": 27,
   "id": "be46f8e9",
   "metadata": {},
   "outputs": [],
   "source": [
    "df.loc[df['schedule_type'].str.contains('internship', case=False, na=False), 'schedule_type'] = 'Internship'\n",
    "df.loc[df['schedule_type'].str.contains('contractor|tempwork|temp work', case=False, na=False), 'schedule_type'] = 'Contractor'\n",
    "df.loc[df['schedule_type'].str.contains('full-time', case=False, na=False), 'schedule_type'] = 'Full-time'\n",
    "df.loc[df['schedule_type'].str.contains('part-time|volunteer', case=False, na=False), 'schedule_type'] = 'Part-time'"
   ]
  },
  {
   "cell_type": "code",
   "execution_count": 28,
   "id": "4c44bcb8",
   "metadata": {},
   "outputs": [],
   "source": [
    "df['schedule_type'].fillna('Full-time', inplace=True)"
   ]
  },
  {
   "cell_type": "markdown",
   "id": "0e4cd85c",
   "metadata": {},
   "source": [
    "## Cleaning column:  \"work_from_home\""
   ]
  },
  {
   "cell_type": "code",
   "execution_count": 29,
   "id": "4a9937b8",
   "metadata": {},
   "outputs": [],
   "source": [
    "# Create a new column 'Work-Modality' based on modifications in 'work_from_home'\n",
    "df['work_modality'] = df['work_from_home'].fillna('On-Site')\n",
    "df['work_modality'].replace(True, 'Remote', inplace=True)"
   ]
  },
  {
   "cell_type": "code",
   "execution_count": 30,
   "id": "8e07f97f",
   "metadata": {
    "scrolled": true
   },
   "outputs": [
    {
     "data": {
      "text/plain": [
       "work_modality\n",
       "Remote     10310\n",
       "On-Site     9605\n",
       "Name: count, dtype: int64"
      ]
     },
     "execution_count": 30,
     "metadata": {},
     "output_type": "execute_result"
    }
   ],
   "source": [
    "df['work_modality'].value_counts()"
   ]
  },
  {
   "cell_type": "markdown",
   "id": "977853b3",
   "metadata": {},
   "source": [
    "## Cleaning column:  \"date_time\""
   ]
  },
  {
   "cell_type": "code",
   "execution_count": 31,
   "id": "c74cba54",
   "metadata": {},
   "outputs": [],
   "source": [
    "# Transforming 'date_time' column to date format without hours\n",
    "df['date_time'] = pd.to_datetime(df['date_time']).dt.date"
   ]
  },
  {
   "cell_type": "code",
   "execution_count": 32,
   "id": "eefda74d",
   "metadata": {},
   "outputs": [],
   "source": [
    "df.rename(columns={'date_time': 'posted_date'}, inplace=True)"
   ]
  },
  {
   "cell_type": "markdown",
   "id": "a3a8630b",
   "metadata": {},
   "source": [
    "## Cleaning column:  \"salary_standardized\""
   ]
  },
  {
   "cell_type": "code",
   "execution_count": 33,
   "id": "ca8ae978",
   "metadata": {
    "scrolled": true
   },
   "outputs": [
    {
     "data": {
      "text/plain": [
       "count      3562.000000\n",
       "mean      94203.002925\n",
       "std       45405.587652\n",
       "min       15080.000000\n",
       "25%       62400.000000\n",
       "50%       88400.000000\n",
       "75%      119600.000000\n",
       "max      624000.000000\n",
       "Name: salary_standardized, dtype: float64"
      ]
     },
     "execution_count": 33,
     "metadata": {},
     "output_type": "execute_result"
    }
   ],
   "source": [
    "df['salary_standardized'].describe()"
   ]
  },
  {
   "cell_type": "markdown",
   "id": "6afe955e",
   "metadata": {},
   "source": [
    "## Cleaning column: \"description_tokens\""
   ]
  },
  {
   "cell_type": "code",
   "execution_count": 34,
   "id": "35b00ac9",
   "metadata": {
    "scrolled": true
   },
   "outputs": [],
   "source": [
    "# Renaming the column\n",
    "df.rename(columns={'description_tokens': 'extracted_skills'}, inplace=True)"
   ]
  },
  {
   "cell_type": "markdown",
   "id": "ac4de1e9",
   "metadata": {},
   "source": [
    "## description"
   ]
  },
  {
   "cell_type": "code",
   "execution_count": 35,
   "id": "3f1c6818",
   "metadata": {},
   "outputs": [],
   "source": [
    "import unidecode\n",
    "# Replace - jumps with spaces\n",
    "df['description'] = df['description'].str.replace('\\n', ' ')\n",
    "# Delete the hyphens & ¿\n",
    "df['description'] = df['description'].map(lambda x: x.replace('-', '').replace('¿', ''))\n",
    "# Normalise words (no accents, etc.)\n",
    "df['description'] = df['description'].map(lambda x: unidecode.unidecode(x))\n",
    "# Adding spaces in a word if it contains a capitalised letter in between\n",
    "df['description'] = df['description'].map(lambda x: re.sub(r\"(?<![A-Z])(?<!^)([A-Z])\",r\" \\1\", x))\n",
    "# Adding spaces before and after numbers\n",
    "df['description'] = df['description'].map(lambda x: re.sub(r\"([0-9]+(\\.[0-9]+)?)\", r\" \\1\", x))\n",
    "# Substitute n number of spaces by just one space\n",
    "df['description'] = df['description'].map(lambda x: ' '.join(x.split()))\n",
    "# Remove space before dots and after opening parenthesis\n",
    "df['description'] = df['description'].map(lambda x: x.replace('( ', '(').replace(' .', '.').replace('/ ', '/'))\n",
    "# Fix problems with the normalisation\n",
    "df['description'] = df['description'].map(lambda x: x.replace('ano', 'año').replace('anos', 'años'))"
   ]
  },
  {
   "cell_type": "markdown",
   "id": "2d641129",
   "metadata": {},
   "source": [
    "## Save Dataframe: Job Posts"
   ]
  },
  {
   "cell_type": "code",
   "execution_count": 36,
   "id": "bd5276ef",
   "metadata": {},
   "outputs": [
    {
     "data": {
      "text/plain": [
       "Index(['title', 'company_name', 'location', 'via', 'description', 'job_id',\n",
       "       'schedule_type', 'work_from_home', 'posted_date', 'salary_standardized',\n",
       "       'extracted_skills', 'experience_level', 'title_cleaned', 'role',\n",
       "       'work_modality'],\n",
       "      dtype='object')"
      ]
     },
     "execution_count": 36,
     "metadata": {},
     "output_type": "execute_result"
    }
   ],
   "source": [
    "df.columns"
   ]
  },
  {
   "cell_type": "code",
   "execution_count": 37,
   "id": "c6cff7a5",
   "metadata": {},
   "outputs": [],
   "source": [
    "columns_to_drop = ['work_from_home']\n",
    "df.drop(columns=columns_to_drop, inplace=True)"
   ]
  },
  {
   "cell_type": "code",
   "execution_count": 38,
   "id": "a3b91726",
   "metadata": {},
   "outputs": [],
   "source": [
    "# Rearrenged columns\n",
    "new_order = ['job_id','title','experience_level','title_cleaned','role','work_modality'] + [col for col in df.columns if col not in ['job_id','title', 'experience_level','title_cleaned','role','work_modality']]\n",
    "df = df[new_order]"
   ]
  },
  {
   "cell_type": "code",
   "execution_count": 39,
   "id": "3b4c34e4",
   "metadata": {},
   "outputs": [],
   "source": [
    "df.to_csv('../data/us_jobposts.csv', index=False) "
   ]
  },
  {
   "cell_type": "markdown",
   "id": "63605211",
   "metadata": {},
   "source": [
    "## Create a Dataframe based on the skills"
   ]
  },
  {
   "cell_type": "code",
   "execution_count": 40,
   "id": "c988388c",
   "metadata": {},
   "outputs": [
    {
     "data": {
      "text/html": [
       "<div>\n",
       "<style scoped>\n",
       "    .dataframe tbody tr th:only-of-type {\n",
       "        vertical-align: middle;\n",
       "    }\n",
       "\n",
       "    .dataframe tbody tr th {\n",
       "        vertical-align: top;\n",
       "    }\n",
       "\n",
       "    .dataframe thead th {\n",
       "        text-align: right;\n",
       "    }\n",
       "</style>\n",
       "<table border=\"1\" class=\"dataframe\">\n",
       "  <thead>\n",
       "    <tr style=\"text-align: right;\">\n",
       "      <th></th>\n",
       "      <th>job_id</th>\n",
       "      <th>title</th>\n",
       "      <th>experience_level</th>\n",
       "      <th>title_cleaned</th>\n",
       "      <th>role</th>\n",
       "      <th>work_modality</th>\n",
       "      <th>company_name</th>\n",
       "      <th>location</th>\n",
       "      <th>via</th>\n",
       "      <th>description</th>\n",
       "      <th>schedule_type</th>\n",
       "      <th>posted_date</th>\n",
       "      <th>salary_standardized</th>\n",
       "      <th>extracted_skills</th>\n",
       "    </tr>\n",
       "  </thead>\n",
       "  <tbody>\n",
       "    <tr>\n",
       "      <th>0</th>\n",
       "      <td>eyJqb2JfdGl0bGUiOiJEYXRhIEFuYWx5c3QiLCJodGlkb2...</td>\n",
       "      <td>Data Analyst</td>\n",
       "      <td>Not-Specified</td>\n",
       "      <td>Data Analyst</td>\n",
       "      <td>Data Analyst</td>\n",
       "      <td>Remote</td>\n",
       "      <td>Meta</td>\n",
       "      <td>USA</td>\n",
       "      <td>LinkedIn</td>\n",
       "      <td>In the intersection of compliance and analytic...</td>\n",
       "      <td>Full-time</td>\n",
       "      <td>2023-08-04</td>\n",
       "      <td>122000.0</td>\n",
       "      <td>['r', 'tableau', 'sql', 'python']</td>\n",
       "    </tr>\n",
       "  </tbody>\n",
       "</table>\n",
       "</div>"
      ],
      "text/plain": [
       "                                              job_id         title  \\\n",
       "0  eyJqb2JfdGl0bGUiOiJEYXRhIEFuYWx5c3QiLCJodGlkb2...  Data Analyst   \n",
       "\n",
       "  experience_level title_cleaned          role work_modality company_name  \\\n",
       "0    Not-Specified  Data Analyst  Data Analyst        Remote         Meta   \n",
       "\n",
       "  location       via                                        description  \\\n",
       "0      USA  LinkedIn  In the intersection of compliance and analytic...   \n",
       "\n",
       "  schedule_type posted_date  salary_standardized  \\\n",
       "0     Full-time  2023-08-04             122000.0   \n",
       "\n",
       "                    extracted_skills  \n",
       "0  ['r', 'tableau', 'sql', 'python']  "
      ]
     },
     "execution_count": 40,
     "metadata": {},
     "output_type": "execute_result"
    }
   ],
   "source": [
    "df.head(1)"
   ]
  },
  {
   "cell_type": "code",
   "execution_count": 41,
   "id": "8554d917",
   "metadata": {
    "scrolled": true
   },
   "outputs": [],
   "source": [
    "import ast\n",
    "# Convert the values (type = object) in column 'Skills' into actual lists\n",
    "df['extracted_skills'] = df['extracted_skills'].apply(ast.literal_eval)"
   ]
  },
  {
   "cell_type": "code",
   "execution_count": 42,
   "id": "2ca2e77b",
   "metadata": {},
   "outputs": [
    {
     "data": {
      "text/html": [
       "<div>\n",
       "<style scoped>\n",
       "    .dataframe tbody tr th:only-of-type {\n",
       "        vertical-align: middle;\n",
       "    }\n",
       "\n",
       "    .dataframe tbody tr th {\n",
       "        vertical-align: top;\n",
       "    }\n",
       "\n",
       "    .dataframe thead th {\n",
       "        text-align: right;\n",
       "    }\n",
       "</style>\n",
       "<table border=\"1\" class=\"dataframe\">\n",
       "  <thead>\n",
       "    <tr style=\"text-align: right;\">\n",
       "      <th></th>\n",
       "      <th>job_id</th>\n",
       "      <th>title</th>\n",
       "      <th>experience_level</th>\n",
       "      <th>title_cleaned</th>\n",
       "      <th>role</th>\n",
       "      <th>work_modality</th>\n",
       "      <th>company_name</th>\n",
       "      <th>location</th>\n",
       "      <th>via</th>\n",
       "      <th>description</th>\n",
       "      <th>schedule_type</th>\n",
       "      <th>posted_date</th>\n",
       "      <th>salary_standardized</th>\n",
       "      <th>extracted_skills</th>\n",
       "    </tr>\n",
       "  </thead>\n",
       "  <tbody>\n",
       "    <tr>\n",
       "      <th>0</th>\n",
       "      <td>eyJqb2JfdGl0bGUiOiJEYXRhIEFuYWx5c3QiLCJodGlkb2...</td>\n",
       "      <td>Data Analyst</td>\n",
       "      <td>Not-Specified</td>\n",
       "      <td>Data Analyst</td>\n",
       "      <td>Data Analyst</td>\n",
       "      <td>Remote</td>\n",
       "      <td>Meta</td>\n",
       "      <td>USA</td>\n",
       "      <td>LinkedIn</td>\n",
       "      <td>In the intersection of compliance and analytic...</td>\n",
       "      <td>Full-time</td>\n",
       "      <td>2023-08-04</td>\n",
       "      <td>122000.0</td>\n",
       "      <td>[r, tableau, sql, python]</td>\n",
       "    </tr>\n",
       "  </tbody>\n",
       "</table>\n",
       "</div>"
      ],
      "text/plain": [
       "                                              job_id         title  \\\n",
       "0  eyJqb2JfdGl0bGUiOiJEYXRhIEFuYWx5c3QiLCJodGlkb2...  Data Analyst   \n",
       "\n",
       "  experience_level title_cleaned          role work_modality company_name  \\\n",
       "0    Not-Specified  Data Analyst  Data Analyst        Remote         Meta   \n",
       "\n",
       "  location       via                                        description  \\\n",
       "0      USA  LinkedIn  In the intersection of compliance and analytic...   \n",
       "\n",
       "  schedule_type posted_date  salary_standardized           extracted_skills  \n",
       "0     Full-time  2023-08-04             122000.0  [r, tableau, sql, python]  "
      ]
     },
     "execution_count": 42,
     "metadata": {},
     "output_type": "execute_result"
    }
   ],
   "source": [
    "df.head(1)"
   ]
  },
  {
   "cell_type": "code",
   "execution_count": 44,
   "id": "b66f78f7",
   "metadata": {},
   "outputs": [
    {
     "data": {
      "text/html": [
       "<div>\n",
       "<style scoped>\n",
       "    .dataframe tbody tr th:only-of-type {\n",
       "        vertical-align: middle;\n",
       "    }\n",
       "\n",
       "    .dataframe tbody tr th {\n",
       "        vertical-align: top;\n",
       "    }\n",
       "\n",
       "    .dataframe thead th {\n",
       "        text-align: right;\n",
       "    }\n",
       "</style>\n",
       "<table border=\"1\" class=\"dataframe\">\n",
       "  <thead>\n",
       "    <tr style=\"text-align: right;\">\n",
       "      <th></th>\n",
       "      <th>job_id</th>\n",
       "      <th>title</th>\n",
       "      <th>experience_level</th>\n",
       "      <th>title_cleaned</th>\n",
       "      <th>role</th>\n",
       "      <th>work_modality</th>\n",
       "      <th>company_name</th>\n",
       "      <th>location</th>\n",
       "      <th>via</th>\n",
       "      <th>description</th>\n",
       "      <th>schedule_type</th>\n",
       "      <th>posted_date</th>\n",
       "      <th>salary_standardized</th>\n",
       "      <th>extracted_skills</th>\n",
       "    </tr>\n",
       "  </thead>\n",
       "  <tbody>\n",
       "    <tr>\n",
       "      <th>29690</th>\n",
       "      <td>eyJqb2JfdGl0bGUiOiJJbnN1cmFuY2UgLSBEYXRhIEFuYW...</td>\n",
       "      <td>Insurance - Data Analyst - REMOTE</td>\n",
       "      <td>Not-Specified</td>\n",
       "      <td>Data Analyst</td>\n",
       "      <td>Data Analyst</td>\n",
       "      <td>Remote</td>\n",
       "      <td>Work At Home Vintage Experts LLC</td>\n",
       "      <td>USA</td>\n",
       "      <td>LinkedIn</td>\n",
       "      <td>Put your Insurance Experience to work - FROM H...</td>\n",
       "      <td>Contractor</td>\n",
       "      <td>2023-04-08</td>\n",
       "      <td>NaN</td>\n",
       "      <td>css</td>\n",
       "    </tr>\n",
       "    <tr>\n",
       "      <th>18662</th>\n",
       "      <td>eyJqb2JfdGl0bGUiOiJEYXRhIGFuYWx5c3QiLCJodGlkb2...</td>\n",
       "      <td>Data analyst</td>\n",
       "      <td>Not-Specified</td>\n",
       "      <td>Data Analyst</td>\n",
       "      <td>Data Analyst</td>\n",
       "      <td>On-Site</td>\n",
       "      <td>Berean Group International, Inc.</td>\n",
       "      <td>KS</td>\n",
       "      <td>Talent.com</td>\n",
       "      <td>Berean Group is seeking a Remote Data Analyst ...</td>\n",
       "      <td>Full-time</td>\n",
       "      <td>2022-11-04</td>\n",
       "      <td>NaN</td>\n",
       "      <td>sql</td>\n",
       "    </tr>\n",
       "  </tbody>\n",
       "</table>\n",
       "</div>"
      ],
      "text/plain": [
       "                                                  job_id  \\\n",
       "29690  eyJqb2JfdGl0bGUiOiJJbnN1cmFuY2UgLSBEYXRhIEFuYW...   \n",
       "18662  eyJqb2JfdGl0bGUiOiJEYXRhIGFuYWx5c3QiLCJodGlkb2...   \n",
       "\n",
       "                                   title experience_level title_cleaned  \\\n",
       "29690  Insurance - Data Analyst - REMOTE    Not-Specified  Data Analyst   \n",
       "18662                       Data analyst    Not-Specified  Data Analyst   \n",
       "\n",
       "               role work_modality                      company_name location  \\\n",
       "29690  Data Analyst        Remote  Work At Home Vintage Experts LLC      USA   \n",
       "18662  Data Analyst       On-Site  Berean Group International, Inc.       KS   \n",
       "\n",
       "              via                                        description  \\\n",
       "29690    LinkedIn  Put your Insurance Experience to work - FROM H...   \n",
       "18662  Talent.com  Berean Group is seeking a Remote Data Analyst ...   \n",
       "\n",
       "      schedule_type posted_date  salary_standardized extracted_skills  \n",
       "29690    Contractor  2023-04-08                  NaN              css  \n",
       "18662     Full-time  2022-11-04                  NaN              sql  "
      ]
     },
     "execution_count": 44,
     "metadata": {},
     "output_type": "execute_result"
    }
   ],
   "source": [
    "# Remove empty lists [] and explode the column into separate rows\n",
    "skills_df = df[df['extracted_skills'].apply(lambda x: len(x) > 0)].explode('extracted_skills')\n",
    "skills_df.sample(2)"
   ]
  },
  {
   "cell_type": "code",
   "execution_count": 45,
   "id": "49c69d1a",
   "metadata": {},
   "outputs": [],
   "source": [
    "# Skills categorization \n",
    "\n",
    "tools = [\"tableau\",\"excel\",\"power_bi\",\"sas\",\"word\",\"powerpoint\",\"sap\",\"ssis\",\"looker\",\"qlik\",\"alteryx\",\n",
    "    \"spss\",\"ssrs\",\"outlook\",\"dax\",\"sharepoint\",\"splunk\",\"microstrategy\",\"cognos\",\"visio\",\"google sheets\",\"spreadsheet\",\n",
    "    \"ms access\",\"datarobot\"]\n",
    "\n",
    "database = [\"sql server\",\"mysql\",\"cassandra\",\"postgresql\",\"mongodb\",\"elasticsearch\",\"dynamodb\",\"redis\",\"db2\",\"neo4j\",\n",
    "    \"mariadb\",\"firebase\",\"couchbase\",\"sqlite\",\"firestore\",\"couchdb\"]\n",
    "\n",
    "cloud_platforms = [ \"aws\",\"azure\",\"snowflake\",\"databricks\",\"redshift\",\"gcp\",\"oracle\",\"bigquery\",\"aurora\",\n",
    "    \"vmware\",\"ibm cloud\",\"firebase\",\"watson\",\"openstack\",\"heroku\",\"digital ocean\", \"colocation\",\"ovh\",\"linode\"]\n",
    "\n",
    "libraries = [\"spark\",\"hadoop\",\"kafka\",\"airflow\",\"pyspark\",\"pandas\",\"tensorflow\",\"pytorch\",\"numpy\",\"scikit-learn\",\n",
    "    \"keras\",\"jupyter\",\"react\",\"matplotlib\",\"spring\",\"gdpr\",\"plotly\",\"seaborn\",\"graphql\",\"nltk\",\"opencv\",\"ggplot2\",\n",
    "    \"selenium\",\"mxnet\",\"tidyverse\"]\n",
    "\n",
    "frameworks_list = [\"express\",\"node.js\",\"angular\",\"flask\",\"ruby\",\"django\",\"vue.js\",\"phoenix\",\"fastapi\",\"jquery\",\n",
    "    \"asp.net\",\"ruby on rails\", \"react\",\"laravel\",\"angular.js\", \"asp.net core\", \"next.js\",\"drupal\",\"svelte\",\n",
    "    \"symfony\",\"blazor\",\"play framework\",  \"gatsby\"]\n",
    "\n",
    "languages = [\"python\",\"sql\",\"r\",\"java\",\"scala\",\"nosql\",\"sas\",\"go\",\"mongodb\",\"shell\",\"javascript\",\"c++\",\"c#\",\"c\",\n",
    "    \"matlab\",\"vba\",\"bash\",\"t-sql\",\"powershell\",\"html\",\"perl\",\"css\",\"ruby\",\"typescript\"]\n"
   ]
  },
  {
   "cell_type": "code",
   "execution_count": 46,
   "id": "49051cba",
   "metadata": {},
   "outputs": [],
   "source": [
    "# Function to categorize skills\n",
    "def categorize_skills(skill):\n",
    "    lowercase_skill = skill.lower()\n",
    "    if skill in tools:\n",
    "        return \"Tools\"\n",
    "    elif skill in database:\n",
    "        return \"Database\"\n",
    "    elif skill in cloud_platforms:\n",
    "        return \"Cloud Platforms\"\n",
    "    elif skill in libraries:\n",
    "        return \"Libraries\"\n",
    "    elif skill in frameworks_list:\n",
    "        return \"Frameworks\"\n",
    "    elif skill in languages:\n",
    "        return \"Languages\"\n",
    "    else:\n",
    "        return \"Other\""
   ]
  },
  {
   "cell_type": "code",
   "execution_count": 47,
   "id": "f6be246e",
   "metadata": {},
   "outputs": [],
   "source": [
    "# Apply the categorization function to create the 'skills_categories' column\n",
    "skills_df['skills_categories'] = skills_df['extracted_skills'].apply(categorize_skills)"
   ]
  },
  {
   "cell_type": "code",
   "execution_count": 62,
   "id": "37f1e4ed",
   "metadata": {},
   "outputs": [
    {
     "data": {
      "text/html": [
       "<div>\n",
       "<style scoped>\n",
       "    .dataframe tbody tr th:only-of-type {\n",
       "        vertical-align: middle;\n",
       "    }\n",
       "\n",
       "    .dataframe tbody tr th {\n",
       "        vertical-align: top;\n",
       "    }\n",
       "\n",
       "    .dataframe thead th {\n",
       "        text-align: right;\n",
       "    }\n",
       "</style>\n",
       "<table border=\"1\" class=\"dataframe\">\n",
       "  <thead>\n",
       "    <tr style=\"text-align: right;\">\n",
       "      <th></th>\n",
       "      <th>job_id</th>\n",
       "      <th>title</th>\n",
       "      <th>experience_level</th>\n",
       "      <th>title_cleaned</th>\n",
       "      <th>role</th>\n",
       "      <th>work_modality</th>\n",
       "      <th>company_name</th>\n",
       "      <th>location</th>\n",
       "      <th>via</th>\n",
       "      <th>description</th>\n",
       "      <th>schedule_type</th>\n",
       "      <th>posted_date</th>\n",
       "      <th>salary_standardized</th>\n",
       "      <th>extracted_skills</th>\n",
       "      <th>skills_categories</th>\n",
       "    </tr>\n",
       "  </thead>\n",
       "  <tbody>\n",
       "    <tr>\n",
       "      <th>0</th>\n",
       "      <td>eyJqb2JfdGl0bGUiOiJEYXRhIEFuYWx5c3QiLCJodGlkb2...</td>\n",
       "      <td>Data Analyst</td>\n",
       "      <td>Not-Specified</td>\n",
       "      <td>Data Analyst</td>\n",
       "      <td>Data Analyst</td>\n",
       "      <td>Remote</td>\n",
       "      <td>Meta</td>\n",
       "      <td>USA</td>\n",
       "      <td>LinkedIn</td>\n",
       "      <td>In the intersection of compliance and analytic...</td>\n",
       "      <td>Full-time</td>\n",
       "      <td>2023-08-04</td>\n",
       "      <td>122000.0</td>\n",
       "      <td>r</td>\n",
       "      <td>Languages</td>\n",
       "    </tr>\n",
       "    <tr>\n",
       "      <th>0</th>\n",
       "      <td>eyJqb2JfdGl0bGUiOiJEYXRhIEFuYWx5c3QiLCJodGlkb2...</td>\n",
       "      <td>Data Analyst</td>\n",
       "      <td>Not-Specified</td>\n",
       "      <td>Data Analyst</td>\n",
       "      <td>Data Analyst</td>\n",
       "      <td>Remote</td>\n",
       "      <td>Meta</td>\n",
       "      <td>USA</td>\n",
       "      <td>LinkedIn</td>\n",
       "      <td>In the intersection of compliance and analytic...</td>\n",
       "      <td>Full-time</td>\n",
       "      <td>2023-08-04</td>\n",
       "      <td>122000.0</td>\n",
       "      <td>tableau</td>\n",
       "      <td>Tools</td>\n",
       "    </tr>\n",
       "    <tr>\n",
       "      <th>0</th>\n",
       "      <td>eyJqb2JfdGl0bGUiOiJEYXRhIEFuYWx5c3QiLCJodGlkb2...</td>\n",
       "      <td>Data Analyst</td>\n",
       "      <td>Not-Specified</td>\n",
       "      <td>Data Analyst</td>\n",
       "      <td>Data Analyst</td>\n",
       "      <td>Remote</td>\n",
       "      <td>Meta</td>\n",
       "      <td>USA</td>\n",
       "      <td>LinkedIn</td>\n",
       "      <td>In the intersection of compliance and analytic...</td>\n",
       "      <td>Full-time</td>\n",
       "      <td>2023-08-04</td>\n",
       "      <td>122000.0</td>\n",
       "      <td>sql</td>\n",
       "      <td>Languages</td>\n",
       "    </tr>\n",
       "    <tr>\n",
       "      <th>0</th>\n",
       "      <td>eyJqb2JfdGl0bGUiOiJEYXRhIEFuYWx5c3QiLCJodGlkb2...</td>\n",
       "      <td>Data Analyst</td>\n",
       "      <td>Not-Specified</td>\n",
       "      <td>Data Analyst</td>\n",
       "      <td>Data Analyst</td>\n",
       "      <td>Remote</td>\n",
       "      <td>Meta</td>\n",
       "      <td>USA</td>\n",
       "      <td>LinkedIn</td>\n",
       "      <td>In the intersection of compliance and analytic...</td>\n",
       "      <td>Full-time</td>\n",
       "      <td>2023-08-04</td>\n",
       "      <td>122000.0</td>\n",
       "      <td>python</td>\n",
       "      <td>Languages</td>\n",
       "    </tr>\n",
       "    <tr>\n",
       "      <th>2</th>\n",
       "      <td>eyJqb2JfdGl0bGUiOiJBZXJvbmF1dGljYWwgRGF0YSBBbm...</td>\n",
       "      <td>Aeronautical Data Analyst</td>\n",
       "      <td>Not-Specified</td>\n",
       "      <td>Data Analyst</td>\n",
       "      <td>Data Analyst</td>\n",
       "      <td>On-Site</td>\n",
       "      <td>Garmin International, Inc.</td>\n",
       "      <td>KS</td>\n",
       "      <td>Indeed</td>\n",
       "      <td>Overview: We are seeking a fulltime... Aeronau...</td>\n",
       "      <td>Full-time</td>\n",
       "      <td>2023-08-04</td>\n",
       "      <td>NaN</td>\n",
       "      <td>sql</td>\n",
       "      <td>Languages</td>\n",
       "    </tr>\n",
       "    <tr>\n",
       "      <th>3</th>\n",
       "      <td>eyJqb2JfdGl0bGUiOiJEYXRhIEFuYWx5c3QgLSBDb25zdW...</td>\n",
       "      <td>Data Analyst - Consumer Goods - Contract to Hire</td>\n",
       "      <td>Not-Specified</td>\n",
       "      <td>Data Analyst</td>\n",
       "      <td>Data Analyst</td>\n",
       "      <td>Remote</td>\n",
       "      <td>Upwork</td>\n",
       "      <td>USA</td>\n",
       "      <td>Upwork</td>\n",
       "      <td>Enthusiastic Data Analyst for processing sales...</td>\n",
       "      <td>Contractor</td>\n",
       "      <td>2023-08-04</td>\n",
       "      <td>41600.0</td>\n",
       "      <td>powerpoint</td>\n",
       "      <td>Tools</td>\n",
       "    </tr>\n",
       "    <tr>\n",
       "      <th>3</th>\n",
       "      <td>eyJqb2JfdGl0bGUiOiJEYXRhIEFuYWx5c3QgLSBDb25zdW...</td>\n",
       "      <td>Data Analyst - Consumer Goods - Contract to Hire</td>\n",
       "      <td>Not-Specified</td>\n",
       "      <td>Data Analyst</td>\n",
       "      <td>Data Analyst</td>\n",
       "      <td>Remote</td>\n",
       "      <td>Upwork</td>\n",
       "      <td>USA</td>\n",
       "      <td>Upwork</td>\n",
       "      <td>Enthusiastic Data Analyst for processing sales...</td>\n",
       "      <td>Contractor</td>\n",
       "      <td>2023-08-04</td>\n",
       "      <td>41600.0</td>\n",
       "      <td>power_bi</td>\n",
       "      <td>Tools</td>\n",
       "    </tr>\n",
       "    <tr>\n",
       "      <th>3</th>\n",
       "      <td>eyJqb2JfdGl0bGUiOiJEYXRhIEFuYWx5c3QgLSBDb25zdW...</td>\n",
       "      <td>Data Analyst - Consumer Goods - Contract to Hire</td>\n",
       "      <td>Not-Specified</td>\n",
       "      <td>Data Analyst</td>\n",
       "      <td>Data Analyst</td>\n",
       "      <td>Remote</td>\n",
       "      <td>Upwork</td>\n",
       "      <td>USA</td>\n",
       "      <td>Upwork</td>\n",
       "      <td>Enthusiastic Data Analyst for processing sales...</td>\n",
       "      <td>Contractor</td>\n",
       "      <td>2023-08-04</td>\n",
       "      <td>41600.0</td>\n",
       "      <td>excel</td>\n",
       "      <td>Tools</td>\n",
       "    </tr>\n",
       "    <tr>\n",
       "      <th>4</th>\n",
       "      <td>eyJqb2JfdGl0bGUiOiJEYXRhIEFuYWx5c3QgfCBXb3JrZm...</td>\n",
       "      <td>Data Analyst | Workforce Management</td>\n",
       "      <td>Not-Specified</td>\n",
       "      <td>Data Analyst</td>\n",
       "      <td>Data Analyst</td>\n",
       "      <td>On-Site</td>\n",
       "      <td>Krispy Kreme</td>\n",
       "      <td>USA</td>\n",
       "      <td>LinkedIn</td>\n",
       "      <td>Overview of Position This position will be the...</td>\n",
       "      <td>Contractor</td>\n",
       "      <td>2023-08-04</td>\n",
       "      <td>100000.0</td>\n",
       "      <td>powerpoint</td>\n",
       "      <td>Tools</td>\n",
       "    </tr>\n",
       "    <tr>\n",
       "      <th>4</th>\n",
       "      <td>eyJqb2JfdGl0bGUiOiJEYXRhIEFuYWx5c3QgfCBXb3JrZm...</td>\n",
       "      <td>Data Analyst | Workforce Management</td>\n",
       "      <td>Not-Specified</td>\n",
       "      <td>Data Analyst</td>\n",
       "      <td>Data Analyst</td>\n",
       "      <td>On-Site</td>\n",
       "      <td>Krispy Kreme</td>\n",
       "      <td>USA</td>\n",
       "      <td>LinkedIn</td>\n",
       "      <td>Overview of Position This position will be the...</td>\n",
       "      <td>Contractor</td>\n",
       "      <td>2023-08-04</td>\n",
       "      <td>100000.0</td>\n",
       "      <td>outlook</td>\n",
       "      <td>Tools</td>\n",
       "    </tr>\n",
       "  </tbody>\n",
       "</table>\n",
       "</div>"
      ],
      "text/plain": [
       "                                              job_id  \\\n",
       "0  eyJqb2JfdGl0bGUiOiJEYXRhIEFuYWx5c3QiLCJodGlkb2...   \n",
       "0  eyJqb2JfdGl0bGUiOiJEYXRhIEFuYWx5c3QiLCJodGlkb2...   \n",
       "0  eyJqb2JfdGl0bGUiOiJEYXRhIEFuYWx5c3QiLCJodGlkb2...   \n",
       "0  eyJqb2JfdGl0bGUiOiJEYXRhIEFuYWx5c3QiLCJodGlkb2...   \n",
       "2  eyJqb2JfdGl0bGUiOiJBZXJvbmF1dGljYWwgRGF0YSBBbm...   \n",
       "3  eyJqb2JfdGl0bGUiOiJEYXRhIEFuYWx5c3QgLSBDb25zdW...   \n",
       "3  eyJqb2JfdGl0bGUiOiJEYXRhIEFuYWx5c3QgLSBDb25zdW...   \n",
       "3  eyJqb2JfdGl0bGUiOiJEYXRhIEFuYWx5c3QgLSBDb25zdW...   \n",
       "4  eyJqb2JfdGl0bGUiOiJEYXRhIEFuYWx5c3QgfCBXb3JrZm...   \n",
       "4  eyJqb2JfdGl0bGUiOiJEYXRhIEFuYWx5c3QgfCBXb3JrZm...   \n",
       "\n",
       "                                              title experience_level  \\\n",
       "0                                      Data Analyst    Not-Specified   \n",
       "0                                      Data Analyst    Not-Specified   \n",
       "0                                      Data Analyst    Not-Specified   \n",
       "0                                      Data Analyst    Not-Specified   \n",
       "2                         Aeronautical Data Analyst    Not-Specified   \n",
       "3  Data Analyst - Consumer Goods - Contract to Hire    Not-Specified   \n",
       "3  Data Analyst - Consumer Goods - Contract to Hire    Not-Specified   \n",
       "3  Data Analyst - Consumer Goods - Contract to Hire    Not-Specified   \n",
       "4               Data Analyst | Workforce Management    Not-Specified   \n",
       "4               Data Analyst | Workforce Management    Not-Specified   \n",
       "\n",
       "  title_cleaned          role work_modality                company_name  \\\n",
       "0  Data Analyst  Data Analyst        Remote                        Meta   \n",
       "0  Data Analyst  Data Analyst        Remote                        Meta   \n",
       "0  Data Analyst  Data Analyst        Remote                        Meta   \n",
       "0  Data Analyst  Data Analyst        Remote                        Meta   \n",
       "2  Data Analyst  Data Analyst       On-Site  Garmin International, Inc.   \n",
       "3  Data Analyst  Data Analyst        Remote                      Upwork   \n",
       "3  Data Analyst  Data Analyst        Remote                      Upwork   \n",
       "3  Data Analyst  Data Analyst        Remote                      Upwork   \n",
       "4  Data Analyst  Data Analyst       On-Site                Krispy Kreme   \n",
       "4  Data Analyst  Data Analyst       On-Site                Krispy Kreme   \n",
       "\n",
       "  location       via                                        description  \\\n",
       "0      USA  LinkedIn  In the intersection of compliance and analytic...   \n",
       "0      USA  LinkedIn  In the intersection of compliance and analytic...   \n",
       "0      USA  LinkedIn  In the intersection of compliance and analytic...   \n",
       "0      USA  LinkedIn  In the intersection of compliance and analytic...   \n",
       "2       KS    Indeed  Overview: We are seeking a fulltime... Aeronau...   \n",
       "3      USA    Upwork  Enthusiastic Data Analyst for processing sales...   \n",
       "3      USA    Upwork  Enthusiastic Data Analyst for processing sales...   \n",
       "3      USA    Upwork  Enthusiastic Data Analyst for processing sales...   \n",
       "4      USA  LinkedIn  Overview of Position This position will be the...   \n",
       "4      USA  LinkedIn  Overview of Position This position will be the...   \n",
       "\n",
       "  schedule_type posted_date  salary_standardized extracted_skills  \\\n",
       "0     Full-time  2023-08-04             122000.0                r   \n",
       "0     Full-time  2023-08-04             122000.0          tableau   \n",
       "0     Full-time  2023-08-04             122000.0              sql   \n",
       "0     Full-time  2023-08-04             122000.0           python   \n",
       "2     Full-time  2023-08-04                  NaN              sql   \n",
       "3    Contractor  2023-08-04              41600.0       powerpoint   \n",
       "3    Contractor  2023-08-04              41600.0         power_bi   \n",
       "3    Contractor  2023-08-04              41600.0            excel   \n",
       "4    Contractor  2023-08-04             100000.0       powerpoint   \n",
       "4    Contractor  2023-08-04             100000.0          outlook   \n",
       "\n",
       "  skills_categories  \n",
       "0         Languages  \n",
       "0             Tools  \n",
       "0         Languages  \n",
       "0         Languages  \n",
       "2         Languages  \n",
       "3             Tools  \n",
       "3             Tools  \n",
       "3             Tools  \n",
       "4             Tools  \n",
       "4             Tools  "
      ]
     },
     "execution_count": 62,
     "metadata": {},
     "output_type": "execute_result"
    }
   ],
   "source": [
    "skills_df.head(10)"
   ]
  },
  {
   "cell_type": "markdown",
   "id": "63aaacea",
   "metadata": {},
   "source": [
    "## Save Dataframe: Skills"
   ]
  },
  {
   "cell_type": "code",
   "execution_count": null,
   "id": "3778406b",
   "metadata": {},
   "outputs": [],
   "source": [
    "skills_df.to_csv('../data/us_skills.csv', index=False) "
   ]
  },
  {
   "cell_type": "code",
   "execution_count": null,
   "id": "de27369e",
   "metadata": {},
   "outputs": [],
   "source": []
  },
  {
   "cell_type": "code",
   "execution_count": null,
   "id": "e86cac7d",
   "metadata": {},
   "outputs": [],
   "source": []
  }
 ],
 "metadata": {
  "kernelspec": {
   "display_name": "ironhack",
   "language": "python",
   "name": "ironhack"
  },
  "language_info": {
   "codemirror_mode": {
    "name": "ipython",
    "version": 3
   },
   "file_extension": ".py",
   "mimetype": "text/x-python",
   "name": "python",
   "nbconvert_exporter": "python",
   "pygments_lexer": "ipython3",
   "version": "3.11.5"
  }
 },
 "nbformat": 4,
 "nbformat_minor": 5
}
