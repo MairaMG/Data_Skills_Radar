{
 "cells": [
  {
   "cell_type": "code",
   "execution_count": 1,
   "id": "00993d2d",
   "metadata": {},
   "outputs": [],
   "source": [
    "import pandas as pd\n",
    "import numpy as np\n",
    "import re\n",
    "import os\n",
    "import datetime\n",
    "import matplotlib.pyplot as plt"
   ]
  },
  {
   "cell_type": "code",
   "execution_count": 2,
   "id": "1709eefb",
   "metadata": {},
   "outputs": [],
   "source": [
    "df = pd.read_csv('./data/gsearch_jobs.csv')"
   ]
  },
  {
   "cell_type": "code",
   "execution_count": 4,
   "id": "3e57d96b",
   "metadata": {},
   "outputs": [
    {
     "data": {
      "text/plain": [
       "(36470, 27)"
      ]
     },
     "execution_count": 4,
     "metadata": {},
     "output_type": "execute_result"
    }
   ],
   "source": [
    "df.shape"
   ]
  },
  {
   "cell_type": "code",
   "execution_count": 3,
   "id": "3c0eb5e6",
   "metadata": {
    "scrolled": true
   },
   "outputs": [
    {
     "data": {
      "text/html": [
       "<div>\n",
       "<style scoped>\n",
       "    .dataframe tbody tr th:only-of-type {\n",
       "        vertical-align: middle;\n",
       "    }\n",
       "\n",
       "    .dataframe tbody tr th {\n",
       "        vertical-align: top;\n",
       "    }\n",
       "\n",
       "    .dataframe thead th {\n",
       "        text-align: right;\n",
       "    }\n",
       "</style>\n",
       "<table border=\"1\" class=\"dataframe\">\n",
       "  <thead>\n",
       "    <tr style=\"text-align: right;\">\n",
       "      <th></th>\n",
       "      <th>Unnamed: 0</th>\n",
       "      <th>index</th>\n",
       "      <th>title</th>\n",
       "      <th>company_name</th>\n",
       "      <th>location</th>\n",
       "      <th>via</th>\n",
       "      <th>description</th>\n",
       "      <th>extensions</th>\n",
       "      <th>job_id</th>\n",
       "      <th>thumbnail</th>\n",
       "      <th>posted_at</th>\n",
       "      <th>schedule_type</th>\n",
       "      <th>work_from_home</th>\n",
       "      <th>salary</th>\n",
       "      <th>search_term</th>\n",
       "      <th>date_time</th>\n",
       "      <th>search_location</th>\n",
       "      <th>commute_time</th>\n",
       "      <th>salary_pay</th>\n",
       "      <th>salary_rate</th>\n",
       "      <th>salary_avg</th>\n",
       "      <th>salary_min</th>\n",
       "      <th>salary_max</th>\n",
       "      <th>salary_hourly</th>\n",
       "      <th>salary_yearly</th>\n",
       "      <th>salary_standardized</th>\n",
       "      <th>description_tokens</th>\n",
       "    </tr>\n",
       "  </thead>\n",
       "  <tbody>\n",
       "    <tr>\n",
       "      <th>0</th>\n",
       "      <td>0</td>\n",
       "      <td>0</td>\n",
       "      <td>Data Analyst</td>\n",
       "      <td>Meta</td>\n",
       "      <td>Anywhere</td>\n",
       "      <td>via LinkedIn</td>\n",
       "      <td>In the intersection of compliance and analytic...</td>\n",
       "      <td>['15 hours ago', '101K–143K a year', 'Work fro...</td>\n",
       "      <td>eyJqb2JfdGl0bGUiOiJEYXRhIEFuYWx5c3QiLCJodGlkb2...</td>\n",
       "      <td>https://encrypted-tbn0.gstatic.com/images?q=tb...</td>\n",
       "      <td>15 hours ago</td>\n",
       "      <td>Full-time</td>\n",
       "      <td>True</td>\n",
       "      <td>101K–143K a year</td>\n",
       "      <td>data analyst</td>\n",
       "      <td>2023-08-04 03:00:13.797776</td>\n",
       "      <td>United States</td>\n",
       "      <td>NaN</td>\n",
       "      <td>101K–143K</td>\n",
       "      <td>a year</td>\n",
       "      <td>122000.0</td>\n",
       "      <td>101000.0</td>\n",
       "      <td>143000.0</td>\n",
       "      <td>NaN</td>\n",
       "      <td>122000.0</td>\n",
       "      <td>122000.0</td>\n",
       "      <td>['r', 'tableau', 'sql', 'python']</td>\n",
       "    </tr>\n",
       "    <tr>\n",
       "      <th>1</th>\n",
       "      <td>1</td>\n",
       "      <td>1</td>\n",
       "      <td>Data Analyst</td>\n",
       "      <td>ATC</td>\n",
       "      <td>United States</td>\n",
       "      <td>via LinkedIn</td>\n",
       "      <td>Job Title: Entry Level Business Analyst / Prod...</td>\n",
       "      <td>['12 hours ago', 'Full-time', 'Health insurance']</td>\n",
       "      <td>eyJqb2JfdGl0bGUiOiJEYXRhIEFuYWx5c3QiLCJodGlkb2...</td>\n",
       "      <td>https://encrypted-tbn0.gstatic.com/images?q=tb...</td>\n",
       "      <td>12 hours ago</td>\n",
       "      <td>Full-time</td>\n",
       "      <td>NaN</td>\n",
       "      <td>NaN</td>\n",
       "      <td>data analyst</td>\n",
       "      <td>2023-08-04 03:00:13.797776</td>\n",
       "      <td>United States</td>\n",
       "      <td>NaN</td>\n",
       "      <td>NaN</td>\n",
       "      <td>NaN</td>\n",
       "      <td>NaN</td>\n",
       "      <td>NaN</td>\n",
       "      <td>NaN</td>\n",
       "      <td>NaN</td>\n",
       "      <td>NaN</td>\n",
       "      <td>NaN</td>\n",
       "      <td>[]</td>\n",
       "    </tr>\n",
       "  </tbody>\n",
       "</table>\n",
       "</div>"
      ],
      "text/plain": [
       "   Unnamed: 0  index         title company_name            location  \\\n",
       "0           0      0  Data Analyst         Meta           Anywhere    \n",
       "1           1      1  Data Analyst          ATC    United States      \n",
       "\n",
       "            via                                        description  \\\n",
       "0  via LinkedIn  In the intersection of compliance and analytic...   \n",
       "1  via LinkedIn  Job Title: Entry Level Business Analyst / Prod...   \n",
       "\n",
       "                                          extensions  \\\n",
       "0  ['15 hours ago', '101K–143K a year', 'Work fro...   \n",
       "1  ['12 hours ago', 'Full-time', 'Health insurance']   \n",
       "\n",
       "                                              job_id  \\\n",
       "0  eyJqb2JfdGl0bGUiOiJEYXRhIEFuYWx5c3QiLCJodGlkb2...   \n",
       "1  eyJqb2JfdGl0bGUiOiJEYXRhIEFuYWx5c3QiLCJodGlkb2...   \n",
       "\n",
       "                                           thumbnail     posted_at  \\\n",
       "0  https://encrypted-tbn0.gstatic.com/images?q=tb...  15 hours ago   \n",
       "1  https://encrypted-tbn0.gstatic.com/images?q=tb...  12 hours ago   \n",
       "\n",
       "  schedule_type work_from_home            salary   search_term  \\\n",
       "0     Full-time           True  101K–143K a year  data analyst   \n",
       "1     Full-time            NaN               NaN  data analyst   \n",
       "\n",
       "                    date_time search_location  commute_time salary_pay  \\\n",
       "0  2023-08-04 03:00:13.797776   United States           NaN  101K–143K   \n",
       "1  2023-08-04 03:00:13.797776   United States           NaN        NaN   \n",
       "\n",
       "  salary_rate  salary_avg  salary_min  salary_max  salary_hourly  \\\n",
       "0      a year    122000.0    101000.0    143000.0            NaN   \n",
       "1         NaN         NaN         NaN         NaN            NaN   \n",
       "\n",
       "   salary_yearly  salary_standardized                 description_tokens  \n",
       "0       122000.0             122000.0  ['r', 'tableau', 'sql', 'python']  \n",
       "1            NaN                  NaN                                 []  "
      ]
     },
     "execution_count": 3,
     "metadata": {},
     "output_type": "execute_result"
    }
   ],
   "source": [
    "pd.set_option(\"display.max_columns\", None)\n",
    "df.head(2)"
   ]
  },
  {
   "cell_type": "markdown",
   "id": "853deebf",
   "metadata": {},
   "source": [
    "## Drop columns"
   ]
  },
  {
   "cell_type": "code",
   "execution_count": 5,
   "id": "0d2dc4fb",
   "metadata": {},
   "outputs": [],
   "source": [
    "columns_to_drop = ['Unnamed: 0','index','thumbnail','posted_at','commute_time','search_term','salary','salary_pay','salary_rate','salary_min','salary_max','salary_avg','salary_hourly','salary_yearly','extensions']\n",
    "df.drop(columns=columns_to_drop, inplace=True)"
   ]
  },
  {
   "cell_type": "markdown",
   "id": "e4ed9042",
   "metadata": {},
   "source": [
    "## Drop duplicated rows"
   ]
  },
  {
   "cell_type": "code",
   "execution_count": 6,
   "id": "791d2139",
   "metadata": {},
   "outputs": [
    {
     "data": {
      "text/html": [
       "<div>\n",
       "<style scoped>\n",
       "    .dataframe tbody tr th:only-of-type {\n",
       "        vertical-align: middle;\n",
       "    }\n",
       "\n",
       "    .dataframe tbody tr th {\n",
       "        vertical-align: top;\n",
       "    }\n",
       "\n",
       "    .dataframe thead th {\n",
       "        text-align: right;\n",
       "    }\n",
       "</style>\n",
       "<table border=\"1\" class=\"dataframe\">\n",
       "  <thead>\n",
       "    <tr style=\"text-align: right;\">\n",
       "      <th></th>\n",
       "      <th>title</th>\n",
       "      <th>company_name</th>\n",
       "      <th>location</th>\n",
       "      <th>via</th>\n",
       "      <th>description</th>\n",
       "      <th>job_id</th>\n",
       "      <th>schedule_type</th>\n",
       "      <th>work_from_home</th>\n",
       "      <th>date_time</th>\n",
       "      <th>search_location</th>\n",
       "      <th>salary_standardized</th>\n",
       "      <th>description_tokens</th>\n",
       "    </tr>\n",
       "  </thead>\n",
       "  <tbody>\n",
       "    <tr>\n",
       "      <th>13088</th>\n",
       "      <td>\"Data Analyst - Spatial Trend, Sens Slope, Spa...</td>\n",
       "      <td>Upwork</td>\n",
       "      <td>Anywhere</td>\n",
       "      <td>via Upwork</td>\n",
       "      <td>I am looking for a skilled Python Code Develop...</td>\n",
       "      <td>eyJqb2JfdGl0bGUiOiJcIkRhdGEgQW5hbHlzdCAtIFNwYX...</td>\n",
       "      <td>Contractor</td>\n",
       "      <td>True</td>\n",
       "      <td>2023-07-12 03:00:36.170543</td>\n",
       "      <td>United States</td>\n",
       "      <td>NaN</td>\n",
       "      <td>['python']</td>\n",
       "    </tr>\n",
       "    <tr>\n",
       "      <th>13089</th>\n",
       "      <td>\"Data Analyst - Spatial Trend, Sens Slope, Spa...</td>\n",
       "      <td>Upwork</td>\n",
       "      <td>Anywhere</td>\n",
       "      <td>via Upwork</td>\n",
       "      <td>I am looking for a skilled Python Code Develop...</td>\n",
       "      <td>eyJqb2JfdGl0bGUiOiJcIkRhdGEgQW5hbHlzdCAtIFNwYX...</td>\n",
       "      <td>Contractor</td>\n",
       "      <td>True</td>\n",
       "      <td>2023-07-12 03:00:40.643589</td>\n",
       "      <td>United States</td>\n",
       "      <td>NaN</td>\n",
       "      <td>['python']</td>\n",
       "    </tr>\n",
       "  </tbody>\n",
       "</table>\n",
       "</div>"
      ],
      "text/plain": [
       "                                                   title company_name  \\\n",
       "13088  \"Data Analyst - Spatial Trend, Sens Slope, Spa...       Upwork   \n",
       "13089  \"Data Analyst - Spatial Trend, Sens Slope, Spa...       Upwork   \n",
       "\n",
       "         location         via  \\\n",
       "13088   Anywhere   via Upwork   \n",
       "13089   Anywhere   via Upwork   \n",
       "\n",
       "                                             description  \\\n",
       "13088  I am looking for a skilled Python Code Develop...   \n",
       "13089  I am looking for a skilled Python Code Develop...   \n",
       "\n",
       "                                                  job_id schedule_type  \\\n",
       "13088  eyJqb2JfdGl0bGUiOiJcIkRhdGEgQW5hbHlzdCAtIFNwYX...    Contractor   \n",
       "13089  eyJqb2JfdGl0bGUiOiJcIkRhdGEgQW5hbHlzdCAtIFNwYX...    Contractor   \n",
       "\n",
       "      work_from_home                   date_time search_location  \\\n",
       "13088           True  2023-07-12 03:00:36.170543   United States   \n",
       "13089           True  2023-07-12 03:00:40.643589   United States   \n",
       "\n",
       "       salary_standardized description_tokens  \n",
       "13088                  NaN         ['python']  \n",
       "13089                  NaN         ['python']  "
      ]
     },
     "execution_count": 6,
     "metadata": {},
     "output_type": "execute_result"
    }
   ],
   "source": [
    "# Find duplicates based on 'title' and 'company' columns (in this case cannot use job_id as in some cases any minimal difference in time of publication gives a new job_id)\n",
    "duplicate_mask = df.duplicated(subset=['title', 'company_name'], keep=False)\n",
    "\n",
    "# Get both original and duplicate rows for double-check\n",
    "original_and_duplicates = df[duplicate_mask].sort_values(by=['title', 'company_name'])\n",
    "original_and_duplicates.head(2)"
   ]
  },
  {
   "cell_type": "code",
   "execution_count": 7,
   "id": "9f4fdfa5",
   "metadata": {},
   "outputs": [],
   "source": [
    "# Drop the duplicate rows\n",
    "df.drop_duplicates(subset=['title', 'company_name'], keep='first', inplace=True)"
   ]
  },
  {
   "cell_type": "markdown",
   "id": "24c92f74",
   "metadata": {},
   "source": [
    "## Creating a New Column: \"experience_level\""
   ]
  },
  {
   "cell_type": "code",
   "execution_count": 8,
   "id": "c3bc1dc0",
   "metadata": {},
   "outputs": [],
   "source": [
    "def categorize_experience(title):\n",
    "    title_lower = title.lower()\n",
    "    if any(word in title_lower for word in [ 'intern','internship']):\n",
    "        return 'Intern'\n",
    "    elif any(word in title_lower for word in ['manager', 'executive', 'principal', 'staff']):\n",
    "        return 'Manager'\n",
    "    elif any(word in title_lower for word in ['director']):\n",
    "        return 'Director'\n",
    "    elif any(word in title_lower for word in ['mid-senior','mid level','mid-level','ii','specialist']):\n",
    "        return 'Mid-Senior'\n",
    "    elif any(word in title_lower for word in ['jr', 'jr.','junior','entry', 'associate','1']):\n",
    "        return 'Junior'\n",
    "    elif any(word in title_lower for word in ['sr.', 'sr', 'senior','exper','3','4','lead','steward']):\n",
    "        return 'Senior'\n",
    "    elif any(word in title for word in ['III','IV']):\n",
    "        return 'Senior'\n",
    "    elif 'II' in title:\n",
    "        return 'Mid-Senior'\n",
    "    elif re.search(r'\\bI\\b', title):\n",
    "        return 'Junior'\n",
    "    else:\n",
    "        return None"
   ]
  },
  {
   "cell_type": "code",
   "execution_count": 9,
   "id": "9e188915",
   "metadata": {},
   "outputs": [],
   "source": [
    "# Apply the function to create the 'experience_level' column\n",
    "df['experience_level'] = df['title'].apply(categorize_experience)"
   ]
  },
  {
   "cell_type": "code",
   "execution_count": 10,
   "id": "5548b307",
   "metadata": {
    "scrolled": true
   },
   "outputs": [
    {
     "data": {
      "text/plain": [
       "experience_level\n",
       "Senior        4796\n",
       "Junior        1250\n",
       "Mid-Senior    1221\n",
       "Manager        778\n",
       "Intern         286\n",
       "Director        86\n",
       "Name: count, dtype: int64"
      ]
     },
     "execution_count": 10,
     "metadata": {},
     "output_type": "execute_result"
    }
   ],
   "source": [
    "df['experience_level'].value_counts()"
   ]
  },
  {
   "cell_type": "markdown",
   "id": "07844a0b",
   "metadata": {},
   "source": [
    "## Cleaning column: \"title\""
   ]
  },
  {
   "cell_type": "code",
   "execution_count": 11,
   "id": "c12302e1",
   "metadata": {},
   "outputs": [],
   "source": [
    "def clean_title(title):\n",
    "    title_lower = title.lower()\n",
    "    if 'engineer' in title_lower:\n",
    "        if 'data' in title_lower:\n",
    "            return 'Data Engineer'\n",
    "    elif 'software' in title_lower:\n",
    "        return 'Software Engineer'\n",
    "    elif 'cloud' in title_lower:\n",
    "        return 'Cloud Engineer'\n",
    "    elif 'scien' in title_lower:\n",
    "        return 'Data Scientist'\n",
    "    elif re.search(r'\\bBI\\b', title) or re.search(r'\\bbusiness\\s*(?!data\\s*)\\w*\\s*analyst\\b|\\bbusiness\\s*(?!data\\s*)\\w*\\s*intelligence\\b|\\bfinancial\\s*analyst\\b', title_lower):\n",
    "        return 'Business Analyst'\n",
    "    elif re.search(r'\\bdata\\b|\\banalytics?\\b', title_lower):\n",
    "        return 'Data Analyst'\n",
    "    elif re.search(r'\\bdata\\b.*\\b(analyst|analytics|analysis)\\b|\\banalytics?\\b', title_lower):\n",
    "        return 'Data Analyst'\n",
    "    else:\n",
    "        return None"
   ]
  },
  {
   "cell_type": "code",
   "execution_count": 12,
   "id": "fa99ed8a",
   "metadata": {},
   "outputs": [],
   "source": [
    "# Apply the function and create the 'title_cleaned' column in clear data role categories \n",
    "df.loc[:, 'title_cleaned'] = df['title'].apply(clean_title)"
   ]
  },
  {
   "cell_type": "code",
   "execution_count": 13,
   "id": "fe1ec75a",
   "metadata": {
    "scrolled": true
   },
   "outputs": [
    {
     "data": {
      "text/plain": [
       "title_cleaned\n",
       "Data Analyst         15415\n",
       "Business Analyst      1430\n",
       "Data Scientist        1203\n",
       "Data Engineer          660\n",
       "Cloud Engineer          56\n",
       "Software Engineer       41\n",
       "Name: count, dtype: int64"
      ]
     },
     "execution_count": 13,
     "metadata": {},
     "output_type": "execute_result"
    }
   ],
   "source": [
    "df['title_cleaned'].value_counts()"
   ]
  },
  {
   "cell_type": "code",
   "execution_count": 14,
   "id": "fbff666e",
   "metadata": {
    "scrolled": true
   },
   "outputs": [
    {
     "data": {
      "text/html": [
       "<div>\n",
       "<style scoped>\n",
       "    .dataframe tbody tr th:only-of-type {\n",
       "        vertical-align: middle;\n",
       "    }\n",
       "\n",
       "    .dataframe tbody tr th {\n",
       "        vertical-align: top;\n",
       "    }\n",
       "\n",
       "    .dataframe thead th {\n",
       "        text-align: right;\n",
       "    }\n",
       "</style>\n",
       "<table border=\"1\" class=\"dataframe\">\n",
       "  <thead>\n",
       "    <tr style=\"text-align: right;\">\n",
       "      <th></th>\n",
       "      <th>title</th>\n",
       "      <th>company_name</th>\n",
       "      <th>location</th>\n",
       "      <th>via</th>\n",
       "      <th>description</th>\n",
       "      <th>job_id</th>\n",
       "      <th>schedule_type</th>\n",
       "      <th>work_from_home</th>\n",
       "      <th>date_time</th>\n",
       "      <th>search_location</th>\n",
       "      <th>salary_standardized</th>\n",
       "      <th>description_tokens</th>\n",
       "      <th>experience_level</th>\n",
       "      <th>title_cleaned</th>\n",
       "    </tr>\n",
       "  </thead>\n",
       "  <tbody>\n",
       "    <tr>\n",
       "      <th>24644</th>\n",
       "      <td>Examination papper on Regression Analysis</td>\n",
       "      <td>Upwork</td>\n",
       "      <td>Anywhere</td>\n",
       "      <td>via Upwork</td>\n",
       "      <td>Examination task\\n\\nIn the examination task, a...</td>\n",
       "      <td>eyJqb2JfdGl0bGUiOiJFeGFtaW5hdGlvbiBwYXBwZXIgb2...</td>\n",
       "      <td>Contractor</td>\n",
       "      <td>True</td>\n",
       "      <td>2022-12-03 04:00:42.761612</td>\n",
       "      <td>United States</td>\n",
       "      <td>NaN</td>\n",
       "      <td>['word', 'excel']</td>\n",
       "      <td>None</td>\n",
       "      <td>None</td>\n",
       "    </tr>\n",
       "    <tr>\n",
       "      <th>18670</th>\n",
       "      <td>Sr bi developer</td>\n",
       "      <td>CRB</td>\n",
       "      <td>Kansas City, MO</td>\n",
       "      <td>via Talent.com</td>\n",
       "      <td>Job Description\\n\\nCRB is looking for an energ...</td>\n",
       "      <td>eyJqb2JfdGl0bGUiOiJTciBiaSBkZXZlbG9wZXIiLCJodG...</td>\n",
       "      <td>Full-time</td>\n",
       "      <td>NaN</td>\n",
       "      <td>2022-11-07 15:17:30.126625</td>\n",
       "      <td>United States</td>\n",
       "      <td>NaN</td>\n",
       "      <td>['dax', 'powershell', 'ssis', 'tableau', 'azur...</td>\n",
       "      <td>Senior</td>\n",
       "      <td>None</td>\n",
       "    </tr>\n",
       "  </tbody>\n",
       "</table>\n",
       "</div>"
      ],
      "text/plain": [
       "                                           title company_name  \\\n",
       "24644  Examination papper on Regression Analysis       Upwork   \n",
       "18670                            Sr bi developer          CRB   \n",
       "\n",
       "              location             via  \\\n",
       "24644         Anywhere      via Upwork   \n",
       "18670  Kansas City, MO  via Talent.com   \n",
       "\n",
       "                                             description  \\\n",
       "24644  Examination task\\n\\nIn the examination task, a...   \n",
       "18670  Job Description\\n\\nCRB is looking for an energ...   \n",
       "\n",
       "                                                  job_id schedule_type  \\\n",
       "24644  eyJqb2JfdGl0bGUiOiJFeGFtaW5hdGlvbiBwYXBwZXIgb2...    Contractor   \n",
       "18670  eyJqb2JfdGl0bGUiOiJTciBiaSBkZXZlbG9wZXIiLCJodG...     Full-time   \n",
       "\n",
       "      work_from_home                   date_time search_location  \\\n",
       "24644           True  2022-12-03 04:00:42.761612   United States   \n",
       "18670            NaN  2022-11-07 15:17:30.126625   United States   \n",
       "\n",
       "       salary_standardized                                 description_tokens  \\\n",
       "24644                  NaN                                  ['word', 'excel']   \n",
       "18670                  NaN  ['dax', 'powershell', 'ssis', 'tableau', 'azur...   \n",
       "\n",
       "      experience_level title_cleaned  \n",
       "24644             None          None  \n",
       "18670           Senior          None  "
      ]
     },
     "execution_count": 14,
     "metadata": {},
     "output_type": "execute_result"
    }
   ],
   "source": [
    "# Filter rows with None in 'title_cleaned' column to analyze if there are more key words that can help to categorize the titles\n",
    "none_titles = df[df['title_cleaned'].isnull()]\n",
    "none_titles.sample(2)"
   ]
  },
  {
   "cell_type": "markdown",
   "id": "0fb8acf1",
   "metadata": {},
   "source": [
    "## Creating a New Column: \"Role\""
   ]
  },
  {
   "cell_type": "code",
   "execution_count": 15,
   "id": "b2582b68",
   "metadata": {},
   "outputs": [],
   "source": [
    "def get_role_name(row):\n",
    "    title_cleaned = row['title_cleaned']\n",
    "    experience_level = row['experience_level']\n",
    "    \n",
    "    if title_cleaned is None and experience_level is None:\n",
    "        return None\n",
    "    elif experience_level is None:\n",
    "        return title_cleaned\n",
    "    elif title_cleaned is None:\n",
    "        return None\n",
    "    else:\n",
    "        return f\"{title_cleaned} {experience_level}\""
   ]
  },
  {
   "cell_type": "code",
   "execution_count": 16,
   "id": "b4cf3fc8",
   "metadata": {},
   "outputs": [],
   "source": [
    "df['role'] = df.apply(get_role_name, axis=1)"
   ]
  },
  {
   "cell_type": "code",
   "execution_count": 17,
   "id": "f9b933dc",
   "metadata": {},
   "outputs": [],
   "source": [
    "# Rearrenged columns\n",
    "new_order = ['job_id','title','experience_level','title_cleaned','role'] + [col for col in df.columns if col not in ['job_id','title', 'experience_level','title_cleaned','role']]\n",
    "df = df[new_order]"
   ]
  },
  {
   "cell_type": "markdown",
   "id": "febbc1ce",
   "metadata": {},
   "source": [
    "## Cleaning column: \"location\""
   ]
  },
  {
   "cell_type": "code",
   "execution_count": 18,
   "id": "cd48cca9",
   "metadata": {},
   "outputs": [],
   "source": [
    "# Dictionary of state names and abbreviations\n",
    "state_name_to_abbreviation = {\n",
    "    'Alabama': 'AL', 'Alaska': 'AK', 'Arizona': 'AZ', 'Arkansas': 'AR', 'California': 'CA', 'Colorado': 'CO',\n",
    "    'Connecticut': 'CT', 'Delaware': 'DE', 'Florida': 'FL', 'Georgia': 'GA', 'Hawaii': 'HI', 'Idaho': 'ID',\n",
    "    'Illinois': 'IL', 'Indiana': 'IN', 'Iowa': 'IA', 'Kansas': 'KS', 'Kentucky': 'KY', 'Louisiana': 'LA',\n",
    "    'Maine': 'ME', 'Maryland': 'MD', 'Massachusetts': 'MA', 'Michigan': 'MI', 'Minnesota': 'MN',\n",
    "    'Mississippi': 'MS', 'Missouri': 'MO', 'Montana': 'MT', 'Nebraska': 'NE', 'Nevada': 'NV',\n",
    "    'New Hampshire': 'NH', 'New Jersey': 'NJ', 'New Mexico': 'NM', 'New York': 'NY', 'North Carolina': 'NC',\n",
    "    'North Dakota': 'ND', 'Ohio': 'OH', 'Oklahoma': 'OK', 'Oregon': 'OR', 'Pennsylvania': 'PA',\n",
    "    'Rhode Island': 'RI', 'South Carolina': 'SC', 'South Dakota': 'SD', 'Tennessee': 'TN', 'Texas': 'TX',\n",
    "    'Utah': 'UT', 'Vermont': 'VT', 'Virginia': 'VA', 'Washington': 'WA', 'West Virginia': 'WV', 'Wisconsin': 'WI',\n",
    "    'Wyoming': 'WY'\n",
    "}\n",
    "\n",
    "# Function to replace state names with abbreviations\n",
    "def replace_state_with_abbreviation(text):\n",
    "    if pd.isna(text):\n",
    "        return text  \n",
    "    # Removing additional text after the state abbreviation in ()\n",
    "    text = re.sub(r'\\s*\\(\\+\\d+\\s*other[s]?\\)', '', str(text))\n",
    "    for state_name, state_abbr in state_name_to_abbreviation.items():\n",
    "        if state_name.lower() in text.lower():\n",
    "            return state_abbr\n",
    "    # Return non-state values as is\n",
    "    return text  \n",
    "\n",
    "# Extract information after comma and removing leading andtrailing spaces\n",
    "df['location'] = df['location'].fillna(np.nan)  # Fill NaN values explicitly\n",
    "df['location'] = df['location'].str.split(',').str[-1].str.strip()\n",
    "\n",
    "# Replace 'Anywhere' with 'United States' \n",
    "df['location'] = df['location'].str.replace('Anywhere', 'United States', case=False)\n",
    "\n",
    "# Update the entire column to 'USA' if it contains the phrase 'United States'\n",
    "df.loc[df['location'].str.contains('United States', case=False, na=False), 'location'] = 'USA'\n",
    "\n",
    "# Replace state names with abbreviations\n",
    "df['location'] = df['location'].apply(replace_state_with_abbreviation)"
   ]
  },
  {
   "cell_type": "code",
   "execution_count": 19,
   "id": "5ab9a38c",
   "metadata": {},
   "outputs": [
    {
     "data": {
      "text/plain": [
       "location\n",
       "USA    17911\n",
       "MO      1259\n",
       "KS       864\n",
       "OK       771\n",
       "AR       454\n",
       "CA        88\n",
       "TX        15\n",
       "NE         8\n",
       "NY         7\n",
       "MA         5\n",
       "PA         4\n",
       "NJ         2\n",
       "DC         2\n",
       "NH         1\n",
       "CT         1\n",
       "Name: count, dtype: int64"
      ]
     },
     "execution_count": 19,
     "metadata": {},
     "output_type": "execute_result"
    }
   ],
   "source": [
    "df['location'].value_counts()"
   ]
  },
  {
   "cell_type": "code",
   "execution_count": null,
   "id": "bcadcf0d",
   "metadata": {
    "scrolled": true
   },
   "outputs": [],
   "source": [
    "import spacy\n",
    "\n",
    "nlp = spacy.load(\"en_core_web_sm\")\n",
    "\n",
    "def extract_location(text):\n",
    "    doc = nlp(text)\n",
    "    locations = [ent.text for ent in doc.ents if ent.label_ == \"GPE\"]  # GPE = geopolitical entity\n",
    "    if locations:\n",
    "        # Assumption: The first location mentioned is the relevant one\n",
    "        return locations[0]\n",
    "    return None"
   ]
  },
  {
   "cell_type": "code",
   "execution_count": null,
   "id": "980e650e",
   "metadata": {},
   "outputs": [],
   "source": [
    "# Fill NaN values with 'USA' or any default value\n",
    "df['location'] = df['location'].fillna('USA')  \n",
    "# Filter rows with 'USA' or null\n",
    "mask = (df['location'] == 'USA') | df['location'].isnull()  \n",
    "\n",
    "for idx, row in df[mask].iterrows():\n",
    "    location = extract_location(row['description'])\n",
    "    if location:\n",
    "        # Update 'location' column with the extracted location\n",
    "        df.loc[idx, 'location'] = location \n",
    "\n",
    "# Convert the extracted locations to state abbreviations \n",
    "df['location'] = df['location'].map(state_name_to_abbreviation.get)"
   ]
  },
  {
   "cell_type": "markdown",
   "id": "67f013a0",
   "metadata": {},
   "source": [
    "## Cleaning column: \"via\""
   ]
  },
  {
   "cell_type": "code",
   "execution_count": 20,
   "id": "73fb2a94",
   "metadata": {},
   "outputs": [],
   "source": [
    "# Getting rid of 'via' at the beginning of the strings\n",
    "df['via'] = df['via'].str.replace(r'^via', '', regex=True).str.strip()"
   ]
  },
  {
   "cell_type": "markdown",
   "id": "9b732d6c",
   "metadata": {},
   "source": [
    "## Cleaning column: \"schedule_type\""
   ]
  },
  {
   "cell_type": "code",
   "execution_count": 21,
   "id": "be46f8e9",
   "metadata": {},
   "outputs": [],
   "source": [
    "df.loc[df['schedule_type'].str.contains('internship', case=False, na=False), 'schedule_type'] = 'Internship'\n",
    "df.loc[df['schedule_type'].str.contains('contractor|tempwork|temp work', case=False, na=False), 'schedule_type'] = 'Contractor'\n",
    "df.loc[df['schedule_type'].str.contains('full-time', case=False, na=False), 'schedule_type'] = 'Full-Time'\n",
    "df.loc[df['schedule_type'].str.contains('part-time|volunteer', case=False, na=False), 'schedule_type'] = 'Part-Time'"
   ]
  },
  {
   "cell_type": "code",
   "execution_count": 22,
   "id": "ab0e0c8c",
   "metadata": {
    "scrolled": true
   },
   "outputs": [
    {
     "data": {
      "text/plain": [
       "schedule_type\n",
       "Full-Time     14276\n",
       "Contractor     6617\n",
       "Part-Time       250\n",
       "Internship      158\n",
       "Name: count, dtype: int64"
      ]
     },
     "execution_count": 22,
     "metadata": {},
     "output_type": "execute_result"
    }
   ],
   "source": [
    "df['schedule_type'].value_counts()"
   ]
  },
  {
   "cell_type": "markdown",
   "id": "0e4cd85c",
   "metadata": {},
   "source": [
    "## Cleaning column:  \"work_from_home\""
   ]
  },
  {
   "cell_type": "code",
   "execution_count": 23,
   "id": "4a9937b8",
   "metadata": {},
   "outputs": [],
   "source": [
    "# Replace null values with \"On-Site\"\n",
    "df['work_from_home'].fillna('On-Site', inplace=True)\n",
    "\n",
    "# Replace \"True\" with \"Remote\"\n",
    "df['work_from_home'].replace(True, 'Remote', inplace=True)"
   ]
  },
  {
   "cell_type": "code",
   "execution_count": 24,
   "id": "8e07f97f",
   "metadata": {},
   "outputs": [
    {
     "data": {
      "text/plain": [
       "work_from_home\n",
       "Remote     11429\n",
       "On-Site     9977\n",
       "Name: count, dtype: int64"
      ]
     },
     "execution_count": 24,
     "metadata": {},
     "output_type": "execute_result"
    }
   ],
   "source": [
    "df['work_from_home'].value_counts()"
   ]
  },
  {
   "cell_type": "markdown",
   "id": "977853b3",
   "metadata": {},
   "source": [
    "## Cleaning column:  \"date_time\""
   ]
  },
  {
   "cell_type": "code",
   "execution_count": 25,
   "id": "c74cba54",
   "metadata": {},
   "outputs": [],
   "source": [
    "# Transforming 'date_time' column to date format without hours\n",
    "df['date_time'] = pd.to_datetime(df['date_time']).dt.date"
   ]
  },
  {
   "cell_type": "markdown",
   "id": "a3a8630b",
   "metadata": {},
   "source": [
    "## Cleaning column:  \"salary_standardized\""
   ]
  },
  {
   "cell_type": "code",
   "execution_count": 26,
   "id": "ca8ae978",
   "metadata": {
    "scrolled": false
   },
   "outputs": [
    {
     "data": {
      "text/plain": [
       "count      4027.000000\n",
       "mean      93823.717710\n",
       "std       45625.543707\n",
       "min       15080.000000\n",
       "25%       62400.000000\n",
       "50%       88400.000000\n",
       "75%      119600.000000\n",
       "max      624000.000000\n",
       "Name: salary_standardized, dtype: float64"
      ]
     },
     "execution_count": 26,
     "metadata": {},
     "output_type": "execute_result"
    }
   ],
   "source": [
    "df['salary_standardized'].describe()"
   ]
  },
  {
   "cell_type": "markdown",
   "id": "6afe955e",
   "metadata": {},
   "source": [
    "## Cleaning column: \"description_tokens\""
   ]
  },
  {
   "cell_type": "code",
   "execution_count": 27,
   "id": "35b00ac9",
   "metadata": {
    "scrolled": true
   },
   "outputs": [],
   "source": [
    "# Renaming the column\n",
    "df.rename(columns={'description_tokens': 'skills'}, inplace=True)"
   ]
  },
  {
   "cell_type": "code",
   "execution_count": 28,
   "id": "7bd22748",
   "metadata": {},
   "outputs": [],
   "source": [
    "import ast\n",
    "# Convert the values (type = object) in column 'Skills' into actual lists\n",
    "df['skills'] = df['skills'].apply(ast.literal_eval)"
   ]
  },
  {
   "cell_type": "code",
   "execution_count": 29,
   "id": "d00662be",
   "metadata": {
    "scrolled": true
   },
   "outputs": [
    {
     "name": "stdout",
     "output_type": "stream",
     "text": [
      "<class 'pandas.core.frame.DataFrame'>\n",
      "Index: 21406 entries, 0 to 36462\n",
      "Data columns (total 15 columns):\n",
      " #   Column               Non-Null Count  Dtype  \n",
      "---  ------               --------------  -----  \n",
      " 0   job_id               21406 non-null  object \n",
      " 1   title                21406 non-null  object \n",
      " 2   experience_level     8417 non-null   object \n",
      " 3   title_cleaned        18805 non-null  object \n",
      " 4   role                 18805 non-null  object \n",
      " 5   company_name         21406 non-null  object \n",
      " 6   location             21392 non-null  object \n",
      " 7   via                  21405 non-null  object \n",
      " 8   description          21406 non-null  object \n",
      " 9   schedule_type        21301 non-null  object \n",
      " 10  work_from_home       21406 non-null  object \n",
      " 11  date_time            21406 non-null  object \n",
      " 12  search_location      21406 non-null  object \n",
      " 13  salary_standardized  4027 non-null   float64\n",
      " 14  skills               21406 non-null  object \n",
      "dtypes: float64(1), object(14)\n",
      "memory usage: 2.6+ MB\n"
     ]
    }
   ],
   "source": [
    "df.info()"
   ]
  },
  {
   "cell_type": "markdown",
   "id": "2d641129",
   "metadata": {},
   "source": [
    "## Save Dataframe: Job Posts"
   ]
  },
  {
   "cell_type": "code",
   "execution_count": 30,
   "id": "3b4c34e4",
   "metadata": {},
   "outputs": [],
   "source": [
    "df.to_csv('./data/us_jobposts.csv', index=False) "
   ]
  },
  {
   "cell_type": "markdown",
   "id": "63605211",
   "metadata": {},
   "source": [
    "## Create a Dataframe based on the skills"
   ]
  },
  {
   "cell_type": "code",
   "execution_count": 34,
   "id": "b66f78f7",
   "metadata": {},
   "outputs": [
    {
     "data": {
      "text/html": [
       "<div>\n",
       "<style scoped>\n",
       "    .dataframe tbody tr th:only-of-type {\n",
       "        vertical-align: middle;\n",
       "    }\n",
       "\n",
       "    .dataframe tbody tr th {\n",
       "        vertical-align: top;\n",
       "    }\n",
       "\n",
       "    .dataframe thead th {\n",
       "        text-align: right;\n",
       "    }\n",
       "</style>\n",
       "<table border=\"1\" class=\"dataframe\">\n",
       "  <thead>\n",
       "    <tr style=\"text-align: right;\">\n",
       "      <th></th>\n",
       "      <th>job_id</th>\n",
       "      <th>title</th>\n",
       "      <th>experience_level</th>\n",
       "      <th>title_cleaned</th>\n",
       "      <th>role</th>\n",
       "      <th>company_name</th>\n",
       "      <th>location</th>\n",
       "      <th>via</th>\n",
       "      <th>description</th>\n",
       "      <th>schedule_type</th>\n",
       "      <th>work_from_home</th>\n",
       "      <th>date_time</th>\n",
       "      <th>search_location</th>\n",
       "      <th>salary_standardized</th>\n",
       "      <th>skills</th>\n",
       "    </tr>\n",
       "  </thead>\n",
       "  <tbody>\n",
       "    <tr>\n",
       "      <th>0</th>\n",
       "      <td>eyJqb2JfdGl0bGUiOiJEYXRhIEFuYWx5c3QiLCJodGlkb2...</td>\n",
       "      <td>Data Analyst</td>\n",
       "      <td>None</td>\n",
       "      <td>Data Analyst</td>\n",
       "      <td>Data Analyst</td>\n",
       "      <td>Meta</td>\n",
       "      <td>USA</td>\n",
       "      <td>LinkedIn</td>\n",
       "      <td>In the intersection of compliance and analytic...</td>\n",
       "      <td>Full-Time</td>\n",
       "      <td>Remote</td>\n",
       "      <td>2023-08-04</td>\n",
       "      <td>United States</td>\n",
       "      <td>122000.0</td>\n",
       "      <td>r</td>\n",
       "    </tr>\n",
       "    <tr>\n",
       "      <th>0</th>\n",
       "      <td>eyJqb2JfdGl0bGUiOiJEYXRhIEFuYWx5c3QiLCJodGlkb2...</td>\n",
       "      <td>Data Analyst</td>\n",
       "      <td>None</td>\n",
       "      <td>Data Analyst</td>\n",
       "      <td>Data Analyst</td>\n",
       "      <td>Meta</td>\n",
       "      <td>USA</td>\n",
       "      <td>LinkedIn</td>\n",
       "      <td>In the intersection of compliance and analytic...</td>\n",
       "      <td>Full-Time</td>\n",
       "      <td>Remote</td>\n",
       "      <td>2023-08-04</td>\n",
       "      <td>United States</td>\n",
       "      <td>122000.0</td>\n",
       "      <td>tableau</td>\n",
       "    </tr>\n",
       "    <tr>\n",
       "      <th>0</th>\n",
       "      <td>eyJqb2JfdGl0bGUiOiJEYXRhIEFuYWx5c3QiLCJodGlkb2...</td>\n",
       "      <td>Data Analyst</td>\n",
       "      <td>None</td>\n",
       "      <td>Data Analyst</td>\n",
       "      <td>Data Analyst</td>\n",
       "      <td>Meta</td>\n",
       "      <td>USA</td>\n",
       "      <td>LinkedIn</td>\n",
       "      <td>In the intersection of compliance and analytic...</td>\n",
       "      <td>Full-Time</td>\n",
       "      <td>Remote</td>\n",
       "      <td>2023-08-04</td>\n",
       "      <td>United States</td>\n",
       "      <td>122000.0</td>\n",
       "      <td>sql</td>\n",
       "    </tr>\n",
       "    <tr>\n",
       "      <th>0</th>\n",
       "      <td>eyJqb2JfdGl0bGUiOiJEYXRhIEFuYWx5c3QiLCJodGlkb2...</td>\n",
       "      <td>Data Analyst</td>\n",
       "      <td>None</td>\n",
       "      <td>Data Analyst</td>\n",
       "      <td>Data Analyst</td>\n",
       "      <td>Meta</td>\n",
       "      <td>USA</td>\n",
       "      <td>LinkedIn</td>\n",
       "      <td>In the intersection of compliance and analytic...</td>\n",
       "      <td>Full-Time</td>\n",
       "      <td>Remote</td>\n",
       "      <td>2023-08-04</td>\n",
       "      <td>United States</td>\n",
       "      <td>122000.0</td>\n",
       "      <td>python</td>\n",
       "    </tr>\n",
       "    <tr>\n",
       "      <th>2</th>\n",
       "      <td>eyJqb2JfdGl0bGUiOiJBZXJvbmF1dGljYWwgRGF0YSBBbm...</td>\n",
       "      <td>Aeronautical Data Analyst</td>\n",
       "      <td>None</td>\n",
       "      <td>Data Analyst</td>\n",
       "      <td>Data Analyst</td>\n",
       "      <td>Garmin International, Inc.</td>\n",
       "      <td>KS</td>\n",
       "      <td>Indeed</td>\n",
       "      <td>Overview:\\n\\nWe are seeking a full-time...\\nAe...</td>\n",
       "      <td>Full-Time</td>\n",
       "      <td>On-Site</td>\n",
       "      <td>2023-08-04</td>\n",
       "      <td>United States</td>\n",
       "      <td>NaN</td>\n",
       "      <td>sql</td>\n",
       "    </tr>\n",
       "    <tr>\n",
       "      <th>...</th>\n",
       "      <td>...</td>\n",
       "      <td>...</td>\n",
       "      <td>...</td>\n",
       "      <td>...</td>\n",
       "      <td>...</td>\n",
       "      <td>...</td>\n",
       "      <td>...</td>\n",
       "      <td>...</td>\n",
       "      <td>...</td>\n",
       "      <td>...</td>\n",
       "      <td>...</td>\n",
       "      <td>...</td>\n",
       "      <td>...</td>\n",
       "      <td>...</td>\n",
       "      <td>...</td>\n",
       "    </tr>\n",
       "    <tr>\n",
       "      <th>36462</th>\n",
       "      <td>eyJqb2JfdGl0bGUiOiJEYXRhIEFuYWx5c3QgLSBSZW1vdG...</td>\n",
       "      <td>Data Analyst - Remote</td>\n",
       "      <td>None</td>\n",
       "      <td>Data Analyst</td>\n",
       "      <td>Data Analyst</td>\n",
       "      <td>UnitedHealth Group</td>\n",
       "      <td>USA</td>\n",
       "      <td>My ArkLaMiss Jobs</td>\n",
       "      <td>Combine two of the fastest-growing fields on t...</td>\n",
       "      <td>Full-Time</td>\n",
       "      <td>On-Site</td>\n",
       "      <td>2023-02-14</td>\n",
       "      <td>United States</td>\n",
       "      <td>NaN</td>\n",
       "      <td>word</td>\n",
       "    </tr>\n",
       "    <tr>\n",
       "      <th>36462</th>\n",
       "      <td>eyJqb2JfdGl0bGUiOiJEYXRhIEFuYWx5c3QgLSBSZW1vdG...</td>\n",
       "      <td>Data Analyst - Remote</td>\n",
       "      <td>None</td>\n",
       "      <td>Data Analyst</td>\n",
       "      <td>Data Analyst</td>\n",
       "      <td>UnitedHealth Group</td>\n",
       "      <td>USA</td>\n",
       "      <td>My ArkLaMiss Jobs</td>\n",
       "      <td>Combine two of the fastest-growing fields on t...</td>\n",
       "      <td>Full-Time</td>\n",
       "      <td>On-Site</td>\n",
       "      <td>2023-02-14</td>\n",
       "      <td>United States</td>\n",
       "      <td>NaN</td>\n",
       "      <td>go</td>\n",
       "    </tr>\n",
       "    <tr>\n",
       "      <th>36462</th>\n",
       "      <td>eyJqb2JfdGl0bGUiOiJEYXRhIEFuYWx5c3QgLSBSZW1vdG...</td>\n",
       "      <td>Data Analyst - Remote</td>\n",
       "      <td>None</td>\n",
       "      <td>Data Analyst</td>\n",
       "      <td>Data Analyst</td>\n",
       "      <td>UnitedHealth Group</td>\n",
       "      <td>USA</td>\n",
       "      <td>My ArkLaMiss Jobs</td>\n",
       "      <td>Combine two of the fastest-growing fields on t...</td>\n",
       "      <td>Full-Time</td>\n",
       "      <td>On-Site</td>\n",
       "      <td>2023-02-14</td>\n",
       "      <td>United States</td>\n",
       "      <td>NaN</td>\n",
       "      <td>pyspark</td>\n",
       "    </tr>\n",
       "    <tr>\n",
       "      <th>36462</th>\n",
       "      <td>eyJqb2JfdGl0bGUiOiJEYXRhIEFuYWx5c3QgLSBSZW1vdG...</td>\n",
       "      <td>Data Analyst - Remote</td>\n",
       "      <td>None</td>\n",
       "      <td>Data Analyst</td>\n",
       "      <td>Data Analyst</td>\n",
       "      <td>UnitedHealth Group</td>\n",
       "      <td>USA</td>\n",
       "      <td>My ArkLaMiss Jobs</td>\n",
       "      <td>Combine two of the fastest-growing fields on t...</td>\n",
       "      <td>Full-Time</td>\n",
       "      <td>On-Site</td>\n",
       "      <td>2023-02-14</td>\n",
       "      <td>United States</td>\n",
       "      <td>NaN</td>\n",
       "      <td>r</td>\n",
       "    </tr>\n",
       "    <tr>\n",
       "      <th>36462</th>\n",
       "      <td>eyJqb2JfdGl0bGUiOiJEYXRhIEFuYWx5c3QgLSBSZW1vdG...</td>\n",
       "      <td>Data Analyst - Remote</td>\n",
       "      <td>None</td>\n",
       "      <td>Data Analyst</td>\n",
       "      <td>Data Analyst</td>\n",
       "      <td>UnitedHealth Group</td>\n",
       "      <td>USA</td>\n",
       "      <td>My ArkLaMiss Jobs</td>\n",
       "      <td>Combine two of the fastest-growing fields on t...</td>\n",
       "      <td>Full-Time</td>\n",
       "      <td>On-Site</td>\n",
       "      <td>2023-02-14</td>\n",
       "      <td>United States</td>\n",
       "      <td>NaN</td>\n",
       "      <td>sql</td>\n",
       "    </tr>\n",
       "  </tbody>\n",
       "</table>\n",
       "<p>64349 rows × 15 columns</p>\n",
       "</div>"
      ],
      "text/plain": [
       "                                                  job_id  \\\n",
       "0      eyJqb2JfdGl0bGUiOiJEYXRhIEFuYWx5c3QiLCJodGlkb2...   \n",
       "0      eyJqb2JfdGl0bGUiOiJEYXRhIEFuYWx5c3QiLCJodGlkb2...   \n",
       "0      eyJqb2JfdGl0bGUiOiJEYXRhIEFuYWx5c3QiLCJodGlkb2...   \n",
       "0      eyJqb2JfdGl0bGUiOiJEYXRhIEFuYWx5c3QiLCJodGlkb2...   \n",
       "2      eyJqb2JfdGl0bGUiOiJBZXJvbmF1dGljYWwgRGF0YSBBbm...   \n",
       "...                                                  ...   \n",
       "36462  eyJqb2JfdGl0bGUiOiJEYXRhIEFuYWx5c3QgLSBSZW1vdG...   \n",
       "36462  eyJqb2JfdGl0bGUiOiJEYXRhIEFuYWx5c3QgLSBSZW1vdG...   \n",
       "36462  eyJqb2JfdGl0bGUiOiJEYXRhIEFuYWx5c3QgLSBSZW1vdG...   \n",
       "36462  eyJqb2JfdGl0bGUiOiJEYXRhIEFuYWx5c3QgLSBSZW1vdG...   \n",
       "36462  eyJqb2JfdGl0bGUiOiJEYXRhIEFuYWx5c3QgLSBSZW1vdG...   \n",
       "\n",
       "                           title experience_level title_cleaned          role  \\\n",
       "0                   Data Analyst             None  Data Analyst  Data Analyst   \n",
       "0                   Data Analyst             None  Data Analyst  Data Analyst   \n",
       "0                   Data Analyst             None  Data Analyst  Data Analyst   \n",
       "0                   Data Analyst             None  Data Analyst  Data Analyst   \n",
       "2      Aeronautical Data Analyst             None  Data Analyst  Data Analyst   \n",
       "...                          ...              ...           ...           ...   \n",
       "36462      Data Analyst - Remote             None  Data Analyst  Data Analyst   \n",
       "36462      Data Analyst - Remote             None  Data Analyst  Data Analyst   \n",
       "36462      Data Analyst - Remote             None  Data Analyst  Data Analyst   \n",
       "36462      Data Analyst - Remote             None  Data Analyst  Data Analyst   \n",
       "36462      Data Analyst - Remote             None  Data Analyst  Data Analyst   \n",
       "\n",
       "                     company_name location                via  \\\n",
       "0                            Meta      USA           LinkedIn   \n",
       "0                            Meta      USA           LinkedIn   \n",
       "0                            Meta      USA           LinkedIn   \n",
       "0                            Meta      USA           LinkedIn   \n",
       "2      Garmin International, Inc.       KS             Indeed   \n",
       "...                           ...      ...                ...   \n",
       "36462          UnitedHealth Group      USA  My ArkLaMiss Jobs   \n",
       "36462          UnitedHealth Group      USA  My ArkLaMiss Jobs   \n",
       "36462          UnitedHealth Group      USA  My ArkLaMiss Jobs   \n",
       "36462          UnitedHealth Group      USA  My ArkLaMiss Jobs   \n",
       "36462          UnitedHealth Group      USA  My ArkLaMiss Jobs   \n",
       "\n",
       "                                             description schedule_type  \\\n",
       "0      In the intersection of compliance and analytic...     Full-Time   \n",
       "0      In the intersection of compliance and analytic...     Full-Time   \n",
       "0      In the intersection of compliance and analytic...     Full-Time   \n",
       "0      In the intersection of compliance and analytic...     Full-Time   \n",
       "2      Overview:\\n\\nWe are seeking a full-time...\\nAe...     Full-Time   \n",
       "...                                                  ...           ...   \n",
       "36462  Combine two of the fastest-growing fields on t...     Full-Time   \n",
       "36462  Combine two of the fastest-growing fields on t...     Full-Time   \n",
       "36462  Combine two of the fastest-growing fields on t...     Full-Time   \n",
       "36462  Combine two of the fastest-growing fields on t...     Full-Time   \n",
       "36462  Combine two of the fastest-growing fields on t...     Full-Time   \n",
       "\n",
       "      work_from_home   date_time search_location  salary_standardized   skills  \n",
       "0             Remote  2023-08-04   United States             122000.0        r  \n",
       "0             Remote  2023-08-04   United States             122000.0  tableau  \n",
       "0             Remote  2023-08-04   United States             122000.0      sql  \n",
       "0             Remote  2023-08-04   United States             122000.0   python  \n",
       "2            On-Site  2023-08-04   United States                  NaN      sql  \n",
       "...              ...         ...             ...                  ...      ...  \n",
       "36462        On-Site  2023-02-14   United States                  NaN     word  \n",
       "36462        On-Site  2023-02-14   United States                  NaN       go  \n",
       "36462        On-Site  2023-02-14   United States                  NaN  pyspark  \n",
       "36462        On-Site  2023-02-14   United States                  NaN        r  \n",
       "36462        On-Site  2023-02-14   United States                  NaN      sql  \n",
       "\n",
       "[64349 rows x 15 columns]"
      ]
     },
     "execution_count": 34,
     "metadata": {},
     "output_type": "execute_result"
    }
   ],
   "source": [
    "# Remove empty lists [] and explode the column into separate rows\n",
    "skills_df = df[df['skills'].apply(lambda x: len(x) > 0)].explode('skills')\n",
    "skills_df"
   ]
  },
  {
   "cell_type": "code",
   "execution_count": 61,
   "id": "49c69d1a",
   "metadata": {},
   "outputs": [],
   "source": [
    "# Skills categorization \n",
    "\n",
    "tools = [\"tableau\",\"excel\",\"power_bi\",\"sas\",\"word\",\"powerpoint\",\"sap\",\"ssis\",\"looker\",\"qlik\",\"alteryx\",\n",
    "    \"spss\",\"ssrs\",\"outlook\",\"dax\",\"sharepoint\",\"splunk\",\"microstrategy\",\"cognos\",\"visio\",\"google sheets\",\"spreadsheet\",\n",
    "    \"ms access\",\"datarobot\"]\n",
    "\n",
    "database = [\"sql server\",\"mysql\",\"cassandra\",\"postgresql\",\"mongodb\",\"elasticsearch\",\"dynamodb\",\"redis\",\"db2\",\"neo4j\",\n",
    "    \"mariadb\",\"firebase\",\"couchbase\",\"sqlite\",\"firestore\",\"couchdb\"]\n",
    "\n",
    "cloud_platforms = [ \"aws\",\"azure\",\"snowflake\",\"databricks\",\"redshift\",\"gcp\",\"oracle\",\"bigquery\",\"aurora\",\n",
    "    \"vmware\",\"ibm cloud\",\"firebase\",\"watson\",\"openstack\",\"heroku\",\"digital ocean\", \"colocation\",\"ovh\",\"linode\"]\n",
    "\n",
    "libraries = [\"spark\",\"hadoop\",\"kafka\",\"airflow\",\"pyspark\",\"pandas\",\"tensorflow\",\"pytorch\",\"numpy\",\"scikit-learn\",\n",
    "    \"keras\",\"jupyter\",\"react\",\"matplotlib\",\"spring\",\"gdpr\",\"plotly\",\"seaborn\",\"graphql\",\"nltk\",\"opencv\",\"ggplot2\",\n",
    "    \"selenium\",\"mxnet\",\"tidyverse\"]\n",
    "\n",
    "frameworks_list = [\"express\",\"node.js\",\"angular\",\"flask\",\"ruby\",\"django\",\"vue.js\",\"phoenix\",\"fastapi\",\"jquery\",\n",
    "    \"asp.net\",\"ruby on rails\", \"react\",\"laravel\",\"angular.js\", \"asp.net core\", \"next.js\",\"drupal\",\"svelte\",\n",
    "    \"symfony\",\"blazor\",\"play framework\",  \"gatsby\"]\n",
    "\n",
    "languages = [\"python\",\"sql\",\"r\",\"java\",\"scala\",\"nosql\",\"sas\",\"go\",\"mongodb\",\"shell\",\"javascript\",\"c++\",\"c#\",\"c\",\n",
    "    \"matlab\",\"vba\",\"bash\",\"t-sql\",\"powershell\",\"html\",\"perl\",\"css\",\"ruby\",\"typescript\"]\n"
   ]
  },
  {
   "cell_type": "code",
   "execution_count": 56,
   "id": "49051cba",
   "metadata": {},
   "outputs": [],
   "source": [
    "# Function to categorize skills\n",
    "def categorize_skills(skill):\n",
    "    lowercase_skill = skill.lower()\n",
    "    if skill in tools:\n",
    "        return \"Tools\"\n",
    "    elif skill in database:\n",
    "        return \"Database\"\n",
    "    elif skill in cloud_platforms:\n",
    "        return \"Cloud Platforms\"\n",
    "    elif skill in libraries:\n",
    "        return \"Libraries\"\n",
    "    elif skill in frameworks_list:\n",
    "        return \"Frameworks\"\n",
    "    elif skill in languages:\n",
    "        return \"Languages\"\n",
    "    else:\n",
    "        return \"Other\""
   ]
  },
  {
   "cell_type": "code",
   "execution_count": 57,
   "id": "f6be246e",
   "metadata": {},
   "outputs": [],
   "source": [
    "# Apply the categorization function to create the 'skills_categories' column\n",
    "skills_df['skills_categories'] = skills_df['skills'].apply(categorize_skills)"
   ]
  },
  {
   "cell_type": "code",
   "execution_count": 60,
   "id": "e6b5f753",
   "metadata": {},
   "outputs": [
    {
     "data": {
      "text/html": [
       "<div>\n",
       "<style scoped>\n",
       "    .dataframe tbody tr th:only-of-type {\n",
       "        vertical-align: middle;\n",
       "    }\n",
       "\n",
       "    .dataframe tbody tr th {\n",
       "        vertical-align: top;\n",
       "    }\n",
       "\n",
       "    .dataframe thead th {\n",
       "        text-align: right;\n",
       "    }\n",
       "</style>\n",
       "<table border=\"1\" class=\"dataframe\">\n",
       "  <thead>\n",
       "    <tr style=\"text-align: right;\">\n",
       "      <th></th>\n",
       "      <th>job_id</th>\n",
       "      <th>title</th>\n",
       "      <th>experience_level</th>\n",
       "      <th>title_cleaned</th>\n",
       "      <th>role</th>\n",
       "      <th>company_name</th>\n",
       "      <th>location</th>\n",
       "      <th>via</th>\n",
       "      <th>description</th>\n",
       "      <th>schedule_type</th>\n",
       "      <th>work_from_home</th>\n",
       "      <th>date_time</th>\n",
       "      <th>search_location</th>\n",
       "      <th>salary_standardized</th>\n",
       "      <th>skills</th>\n",
       "      <th>skills_categories</th>\n",
       "    </tr>\n",
       "  </thead>\n",
       "  <tbody>\n",
       "    <tr>\n",
       "      <th>0</th>\n",
       "      <td>eyJqb2JfdGl0bGUiOiJEYXRhIEFuYWx5c3QiLCJodGlkb2...</td>\n",
       "      <td>Data Analyst</td>\n",
       "      <td>None</td>\n",
       "      <td>Data Analyst</td>\n",
       "      <td>Data Analyst</td>\n",
       "      <td>Meta</td>\n",
       "      <td>USA</td>\n",
       "      <td>LinkedIn</td>\n",
       "      <td>In the intersection of compliance and analytic...</td>\n",
       "      <td>Full-Time</td>\n",
       "      <td>Remote</td>\n",
       "      <td>2023-08-04</td>\n",
       "      <td>United States</td>\n",
       "      <td>122000.0</td>\n",
       "      <td>r</td>\n",
       "      <td>Languages</td>\n",
       "    </tr>\n",
       "    <tr>\n",
       "      <th>0</th>\n",
       "      <td>eyJqb2JfdGl0bGUiOiJEYXRhIEFuYWx5c3QiLCJodGlkb2...</td>\n",
       "      <td>Data Analyst</td>\n",
       "      <td>None</td>\n",
       "      <td>Data Analyst</td>\n",
       "      <td>Data Analyst</td>\n",
       "      <td>Meta</td>\n",
       "      <td>USA</td>\n",
       "      <td>LinkedIn</td>\n",
       "      <td>In the intersection of compliance and analytic...</td>\n",
       "      <td>Full-Time</td>\n",
       "      <td>Remote</td>\n",
       "      <td>2023-08-04</td>\n",
       "      <td>United States</td>\n",
       "      <td>122000.0</td>\n",
       "      <td>tableau</td>\n",
       "      <td>Tools</td>\n",
       "    </tr>\n",
       "  </tbody>\n",
       "</table>\n",
       "</div>"
      ],
      "text/plain": [
       "                                              job_id         title  \\\n",
       "0  eyJqb2JfdGl0bGUiOiJEYXRhIEFuYWx5c3QiLCJodGlkb2...  Data Analyst   \n",
       "0  eyJqb2JfdGl0bGUiOiJEYXRhIEFuYWx5c3QiLCJodGlkb2...  Data Analyst   \n",
       "\n",
       "  experience_level title_cleaned          role company_name location  \\\n",
       "0             None  Data Analyst  Data Analyst         Meta      USA   \n",
       "0             None  Data Analyst  Data Analyst         Meta      USA   \n",
       "\n",
       "        via                                        description schedule_type  \\\n",
       "0  LinkedIn  In the intersection of compliance and analytic...     Full-Time   \n",
       "0  LinkedIn  In the intersection of compliance and analytic...     Full-Time   \n",
       "\n",
       "  work_from_home   date_time search_location  salary_standardized   skills  \\\n",
       "0         Remote  2023-08-04   United States             122000.0        r   \n",
       "0         Remote  2023-08-04   United States             122000.0  tableau   \n",
       "\n",
       "  skills_categories  \n",
       "0         Languages  \n",
       "0             Tools  "
      ]
     },
     "execution_count": 60,
     "metadata": {},
     "output_type": "execute_result"
    }
   ],
   "source": [
    "skills_df.head(2)"
   ]
  },
  {
   "cell_type": "markdown",
   "id": "63aaacea",
   "metadata": {},
   "source": [
    "## Save Dataframe: Skills"
   ]
  },
  {
   "cell_type": "code",
   "execution_count": 63,
   "id": "3778406b",
   "metadata": {},
   "outputs": [],
   "source": [
    "skills_df.to_csv('./data/us_skills.csv', index=False) "
   ]
  },
  {
   "cell_type": "code",
   "execution_count": null,
   "id": "86e99b71",
   "metadata": {},
   "outputs": [],
   "source": []
  },
  {
   "cell_type": "code",
   "execution_count": null,
   "id": "221b9759",
   "metadata": {},
   "outputs": [],
   "source": []
  }
 ],
 "metadata": {
  "kernelspec": {
   "display_name": "ironhack",
   "language": "python",
   "name": "ironhack"
  },
  "language_info": {
   "codemirror_mode": {
    "name": "ipython",
    "version": 3
   },
   "file_extension": ".py",
   "mimetype": "text/x-python",
   "name": "python",
   "nbconvert_exporter": "python",
   "pygments_lexer": "ipython3",
   "version": "3.11.5"
  }
 },
 "nbformat": 4,
 "nbformat_minor": 5
}
