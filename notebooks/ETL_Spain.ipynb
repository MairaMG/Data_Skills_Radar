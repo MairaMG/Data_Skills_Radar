{
 "cells": [
  {
   "cell_type": "code",
   "execution_count": 1,
   "id": "7a0c2abb",
   "metadata": {},
   "outputs": [],
   "source": [
    "import pandas as pd\n",
    "import numpy as np\n",
    "import re\n",
    "import os\n",
    "import datetime\n",
    "import matplotlib.pyplot as plt"
   ]
  },
  {
   "cell_type": "code",
   "execution_count": 2,
   "id": "b11562ee",
   "metadata": {},
   "outputs": [],
   "source": [
    "file_paths = [\n",
    "    '../data/extracted_data/barcelona_business_intelligence.csv',\n",
    "    '../data/extracted_data/barcelona_data_analyst.csv',\n",
    "    '../data/extracted_data/barcelona_data_engineer.csv',\n",
    "    '../data/extracted_data/barcelona_data_scientist.csv',\n",
    "    '../data/extracted_data/madrid_business_intelligence.csv',\n",
    "    '../data/extracted_data/madrid_data_analyst.csv',\n",
    "    '../data/extracted_data/madrid_data_engineer.csv',\n",
    "    '../data/extracted_data/madrid_data_scientist.csv'\n",
    "]\n",
    "\n",
    "# Concatenate CSV files\n",
    "dfs = [pd.read_csv(file) for file in file_paths]\n",
    "df = pd.concat(dfs, ignore_index=True)\n",
    "\n",
    "# Save dataframe\n",
    "df.to_csv('../data/spain_jobposts_combined.csv', index=False)"
   ]
  },
  {
   "cell_type": "code",
   "execution_count": 3,
   "id": "704e5096",
   "metadata": {
    "scrolled": true
   },
   "outputs": [
    {
     "data": {
      "text/html": [
       "<div>\n",
       "<style scoped>\n",
       "    .dataframe tbody tr th:only-of-type {\n",
       "        vertical-align: middle;\n",
       "    }\n",
       "\n",
       "    .dataframe tbody tr th {\n",
       "        vertical-align: top;\n",
       "    }\n",
       "\n",
       "    .dataframe thead th {\n",
       "        text-align: right;\n",
       "    }\n",
       "</style>\n",
       "<table border=\"1\" class=\"dataframe\">\n",
       "  <thead>\n",
       "    <tr style=\"text-align: right;\">\n",
       "      <th></th>\n",
       "      <th>title</th>\n",
       "      <th>company_name</th>\n",
       "      <th>location</th>\n",
       "      <th>posted_time_ago</th>\n",
       "      <th>seniority_level</th>\n",
       "      <th>employment_type</th>\n",
       "      <th>job_function</th>\n",
       "      <th>industries</th>\n",
       "      <th>description</th>\n",
       "    </tr>\n",
       "  </thead>\n",
       "  <tbody>\n",
       "    <tr>\n",
       "      <th>2828</th>\n",
       "      <td>Desarrollador/a HTML  JS  Java8  PL/SQL</td>\n",
       "      <td>TUYÚ Technology</td>\n",
       "      <td>Madrid  Community of Madrid  Sp...</td>\n",
       "      <td>...</td>\n",
       "      <td>Entry level</td>\n",
       "      <td>Full-time</td>\n",
       "      <td>Engineering and Information Techn...</td>\n",
       "      <td>IT Services and IT Consulting      ...</td>\n",
       "      <td>¿Quieres crecer profesionalmente? ¿...</td>\n",
       "    </tr>\n",
       "  </tbody>\n",
       "</table>\n",
       "</div>"
      ],
      "text/plain": [
       "                                        title  \\\n",
       "2828  Desarrollador/a HTML  JS  Java8  PL/SQL   \n",
       "\n",
       "                                           company_name  \\\n",
       "2828                    TUYÚ Technology                   \n",
       "\n",
       "                                               location  \\\n",
       "2828                 Madrid  Community of Madrid  Sp...   \n",
       "\n",
       "                                        posted_time_ago  \\\n",
       "2828                                                ...   \n",
       "\n",
       "                          seniority_level                employment_type  \\\n",
       "2828               Entry level                        Full-time            \n",
       "\n",
       "                                           job_function  \\\n",
       "2828               Engineering and Information Techn...   \n",
       "\n",
       "                                             industries  \\\n",
       "2828             IT Services and IT Consulting      ...   \n",
       "\n",
       "                                            description  \n",
       "2828             ¿Quieres crecer profesionalmente? ¿...  "
      ]
     },
     "execution_count": 3,
     "metadata": {},
     "output_type": "execute_result"
    }
   ],
   "source": [
    "df = pd.read_csv('../data/spain_jobposts_combined.csv',encoding='utf-8')\n",
    "df.sample(1)"
   ]
  },
  {
   "cell_type": "code",
   "execution_count": 4,
   "id": "a6940a43",
   "metadata": {},
   "outputs": [
    {
     "data": {
      "text/plain": [
       "(3124, 9)"
      ]
     },
     "execution_count": 4,
     "metadata": {},
     "output_type": "execute_result"
    }
   ],
   "source": [
    "df.shape"
   ]
  },
  {
   "cell_type": "markdown",
   "id": "976057a1",
   "metadata": {},
   "source": [
    "## Drop duplicated rows"
   ]
  },
  {
   "cell_type": "code",
   "execution_count": 5,
   "id": "2bb83b6c",
   "metadata": {
    "scrolled": true
   },
   "outputs": [
    {
     "data": {
      "text/html": [
       "<div>\n",
       "<style scoped>\n",
       "    .dataframe tbody tr th:only-of-type {\n",
       "        vertical-align: middle;\n",
       "    }\n",
       "\n",
       "    .dataframe tbody tr th {\n",
       "        vertical-align: top;\n",
       "    }\n",
       "\n",
       "    .dataframe thead th {\n",
       "        text-align: right;\n",
       "    }\n",
       "</style>\n",
       "<table border=\"1\" class=\"dataframe\">\n",
       "  <thead>\n",
       "    <tr style=\"text-align: right;\">\n",
       "      <th></th>\n",
       "      <th>title</th>\n",
       "      <th>company_name</th>\n",
       "      <th>location</th>\n",
       "      <th>posted_time_ago</th>\n",
       "      <th>seniority_level</th>\n",
       "      <th>employment_type</th>\n",
       "      <th>job_function</th>\n",
       "      <th>industries</th>\n",
       "      <th>description</th>\n",
       "    </tr>\n",
       "  </thead>\n",
       "  <tbody>\n",
       "    <tr>\n",
       "      <th>1938</th>\n",
       "      <td>Data Analyst / Engineer - PySpark y Azure</td>\n",
       "      <td>EXCELIA</td>\n",
       "      <td>Madrid  Community of Madrid  Sp...</td>\n",
       "      <td>...</td>\n",
       "      <td>Associate</td>\n",
       "      <td>Full-time</td>\n",
       "      <td>Engineering and Information Techn...</td>\n",
       "      <td>IT Services and IT Consulting      ...</td>\n",
       "      <td>excelia es una firma multinacional de Consu...</td>\n",
       "    </tr>\n",
       "    <tr>\n",
       "      <th>2507</th>\n",
       "      <td>Data Analyst / Engineer - PySpark y Azure</td>\n",
       "      <td>EXCELIA</td>\n",
       "      <td>Madrid  Community of Madrid  Sp...</td>\n",
       "      <td>...</td>\n",
       "      <td>Associate</td>\n",
       "      <td>Full-time</td>\n",
       "      <td>Engineering and Information Techn...</td>\n",
       "      <td>IT Services and IT Consulting      ...</td>\n",
       "      <td>excelia es una firma multinacional de Consu...</td>\n",
       "    </tr>\n",
       "    <tr>\n",
       "      <th>2566</th>\n",
       "      <td>Data Analyst / Engineer - PySpark y Azure</td>\n",
       "      <td>EXCELIA</td>\n",
       "      <td>Madrid  Community of Madrid  Sp...</td>\n",
       "      <td>...</td>\n",
       "      <td>Associate</td>\n",
       "      <td>Full-time</td>\n",
       "      <td>Engineering and Information Techn...</td>\n",
       "      <td>IT Services and IT Consulting      ...</td>\n",
       "      <td>excelia es una firma multinacional de Consu...</td>\n",
       "    </tr>\n",
       "    <tr>\n",
       "      <th>1934</th>\n",
       "      <td>Ingeniero/ a de Datos SQL  Big data y Azure</td>\n",
       "      <td>Tecnicas Reunidas           ...</td>\n",
       "      <td>Madrid  Community of Madrid  Sp...</td>\n",
       "      <td>...</td>\n",
       "      <td>Mid-Senior level</td>\n",
       "      <td>Full-time</td>\n",
       "      <td>Engineering</td>\n",
       "      <td>IT Services and IT Consulting      ...</td>\n",
       "      <td>Técnicas Reunidas Group (TR) es una empresa...</td>\n",
       "    </tr>\n",
       "    <tr>\n",
       "      <th>2288</th>\n",
       "      <td>Ingeniero/ a de Datos SQL  Big data y Azure</td>\n",
       "      <td>Tecnicas Reunidas           ...</td>\n",
       "      <td>Madrid  Community of Madrid  Sp...</td>\n",
       "      <td>...</td>\n",
       "      <td>Mid-Senior level</td>\n",
       "      <td>Full-time</td>\n",
       "      <td>Engineering</td>\n",
       "      <td>IT Services and IT Consulting      ...</td>\n",
       "      <td>Técnicas Reunidas Group (TR) es una empresa...</td>\n",
       "    </tr>\n",
       "    <tr>\n",
       "      <th>...</th>\n",
       "      <td>...</td>\n",
       "      <td>...</td>\n",
       "      <td>...</td>\n",
       "      <td>...</td>\n",
       "      <td>...</td>\n",
       "      <td>...</td>\n",
       "      <td>...</td>\n",
       "      <td>...</td>\n",
       "      <td>...</td>\n",
       "    </tr>\n",
       "    <tr>\n",
       "      <th>1557</th>\n",
       "      <td>Técnico/a de desarrollo (.net y Sql)</td>\n",
       "      <td>Grupo Crit</td>\n",
       "      <td>Madrid  Community of Madrid  Sp...</td>\n",
       "      <td>...</td>\n",
       "      <td>Entry level</td>\n",
       "      <td>Full-time</td>\n",
       "      <td>Management and Manufacturing     ...</td>\n",
       "      <td>Human Resources Services</td>\n",
       "      <td>En Grupo Crit desde del departament...</td>\n",
       "    </tr>\n",
       "    <tr>\n",
       "      <th>2406</th>\n",
       "      <td>UI Software Engineer (C++) - Madden Core</td>\n",
       "      <td>Electronic Arts (EA)        ...</td>\n",
       "      <td>Madrid  Community of Madrid  Sp...</td>\n",
       "      <td>...</td>\n",
       "      <td>Associate</td>\n",
       "      <td>Full-time</td>\n",
       "      <td>Engineering</td>\n",
       "      <td>IT Services and IT Consulting  Soft...</td>\n",
       "      <td>EA SPORTS is one of the leading sports ente...</td>\n",
       "    </tr>\n",
       "    <tr>\n",
       "      <th>2575</th>\n",
       "      <td>UI Software Engineer (C++) - Madden Core</td>\n",
       "      <td>Electronic Arts (EA)        ...</td>\n",
       "      <td>Madrid  Community of Madrid  Sp...</td>\n",
       "      <td>...</td>\n",
       "      <td>Associate</td>\n",
       "      <td>Full-time</td>\n",
       "      <td>Engineering</td>\n",
       "      <td>IT Services and IT Consulting  Soft...</td>\n",
       "      <td>EA SPORTS is one of the leading sports ente...</td>\n",
       "    </tr>\n",
       "    <tr>\n",
       "      <th>716</th>\n",
       "      <td>Workplace Analytics Engineer</td>\n",
       "      <td>Canonical</td>\n",
       "      <td>Barcelona  Catalonia  Spain    ...</td>\n",
       "      <td>...</td>\n",
       "      <td>Entry level</td>\n",
       "      <td>Full-time</td>\n",
       "      <td>Information Technology</td>\n",
       "      <td>Technology  Information and Interne...</td>\n",
       "      <td>Bring your people analytics  social...</td>\n",
       "    </tr>\n",
       "    <tr>\n",
       "      <th>1007</th>\n",
       "      <td>Workplace Analytics Engineer</td>\n",
       "      <td>Canonical</td>\n",
       "      <td>Barcelona  Catalonia  Spain    ...</td>\n",
       "      <td>...</td>\n",
       "      <td>Entry level</td>\n",
       "      <td>Full-time</td>\n",
       "      <td>Information Technology</td>\n",
       "      <td>Technology  Information and Interne...</td>\n",
       "      <td>Bring your people analytics  social...</td>\n",
       "    </tr>\n",
       "  </tbody>\n",
       "</table>\n",
       "<p>1926 rows × 9 columns</p>\n",
       "</div>"
      ],
      "text/plain": [
       "                                             title  \\\n",
       "1938     Data Analyst / Engineer - PySpark y Azure   \n",
       "2507     Data Analyst / Engineer - PySpark y Azure   \n",
       "2566     Data Analyst / Engineer - PySpark y Azure   \n",
       "1934   Ingeniero/ a de Datos SQL  Big data y Azure   \n",
       "2288   Ingeniero/ a de Datos SQL  Big data y Azure   \n",
       "...                                            ...   \n",
       "1557          Técnico/a de desarrollo (.net y Sql)   \n",
       "2406      UI Software Engineer (C++) - Madden Core   \n",
       "2575      UI Software Engineer (C++) - Madden Core   \n",
       "716                   Workplace Analytics Engineer   \n",
       "1007                  Workplace Analytics Engineer   \n",
       "\n",
       "                                           company_name  \\\n",
       "1938                            EXCELIA                   \n",
       "2507                            EXCELIA                   \n",
       "2566                            EXCELIA                   \n",
       "1934                    Tecnicas Reunidas           ...   \n",
       "2288                    Tecnicas Reunidas           ...   \n",
       "...                                                 ...   \n",
       "1557                         Grupo Crit                   \n",
       "2406                    Electronic Arts (EA)        ...   \n",
       "2575                    Electronic Arts (EA)        ...   \n",
       "716                           Canonical                   \n",
       "1007                          Canonical                   \n",
       "\n",
       "                                               location  \\\n",
       "1938                 Madrid  Community of Madrid  Sp...   \n",
       "2507                 Madrid  Community of Madrid  Sp...   \n",
       "2566                 Madrid  Community of Madrid  Sp...   \n",
       "1934                 Madrid  Community of Madrid  Sp...   \n",
       "2288                 Madrid  Community of Madrid  Sp...   \n",
       "...                                                 ...   \n",
       "1557                 Madrid  Community of Madrid  Sp...   \n",
       "2406                 Madrid  Community of Madrid  Sp...   \n",
       "2575                 Madrid  Community of Madrid  Sp...   \n",
       "716                  Barcelona  Catalonia  Spain    ...   \n",
       "1007                 Barcelona  Catalonia  Spain    ...   \n",
       "\n",
       "                                        posted_time_ago  \\\n",
       "1938                                                ...   \n",
       "2507                                                ...   \n",
       "2566                                                ...   \n",
       "1934                                                ...   \n",
       "2288                                                ...   \n",
       "...                                                 ...   \n",
       "1557                                                ...   \n",
       "2406                                                ...   \n",
       "2575                                                ...   \n",
       "716                                                 ...   \n",
       "1007                                                ...   \n",
       "\n",
       "                               seniority_level                employment_type  \\\n",
       "1938                      Associate                        Full-time            \n",
       "2507                      Associate                        Full-time            \n",
       "2566                      Associate                        Full-time            \n",
       "1934               Mid-Senior level                        Full-time            \n",
       "2288               Mid-Senior level                        Full-time            \n",
       "...                                        ...                            ...   \n",
       "1557                    Entry level                        Full-time            \n",
       "2406                      Associate                        Full-time            \n",
       "2575                      Associate                        Full-time            \n",
       "716                     Entry level                        Full-time            \n",
       "1007                    Entry level                        Full-time            \n",
       "\n",
       "                                           job_function  \\\n",
       "1938               Engineering and Information Techn...   \n",
       "2507               Engineering and Information Techn...   \n",
       "2566               Engineering and Information Techn...   \n",
       "1934                             Engineering              \n",
       "2288                             Engineering              \n",
       "...                                                 ...   \n",
       "1557               Management and Manufacturing     ...   \n",
       "2406                             Engineering              \n",
       "2575                             Engineering              \n",
       "716                   Information Technology              \n",
       "1007                  Information Technology              \n",
       "\n",
       "                                             industries  \\\n",
       "1938             IT Services and IT Consulting      ...   \n",
       "2507             IT Services and IT Consulting      ...   \n",
       "2566             IT Services and IT Consulting      ...   \n",
       "1934             IT Services and IT Consulting      ...   \n",
       "2288             IT Services and IT Consulting      ...   \n",
       "...                                                 ...   \n",
       "1557                Human Resources Services              \n",
       "2406             IT Services and IT Consulting  Soft...   \n",
       "2575             IT Services and IT Consulting  Soft...   \n",
       "716              Technology  Information and Interne...   \n",
       "1007             Technology  Information and Interne...   \n",
       "\n",
       "                                            description  \n",
       "1938     excelia es una firma multinacional de Consu...  \n",
       "2507     excelia es una firma multinacional de Consu...  \n",
       "2566     excelia es una firma multinacional de Consu...  \n",
       "1934     Técnicas Reunidas Group (TR) es una empresa...  \n",
       "2288     Técnicas Reunidas Group (TR) es una empresa...  \n",
       "...                                                 ...  \n",
       "1557             En Grupo Crit desde del departament...  \n",
       "2406     EA SPORTS is one of the leading sports ente...  \n",
       "2575     EA SPORTS is one of the leading sports ente...  \n",
       "716              Bring your people analytics  social...  \n",
       "1007             Bring your people analytics  social...  \n",
       "\n",
       "[1926 rows x 9 columns]"
      ]
     },
     "execution_count": 5,
     "metadata": {},
     "output_type": "execute_result"
    }
   ],
   "source": [
    "# Find duplicates based on 'title' and 'company' columns \n",
    "duplicate_mask = df.duplicated(subset=['title', 'company_name'], keep=False)\n",
    "\n",
    "# Get both original and duplicate rows for double-check\n",
    "original_and_duplicates = df[duplicate_mask].sort_values(by=['title', 'company_name'])\n",
    "original_and_duplicates"
   ]
  },
  {
   "cell_type": "code",
   "execution_count": 6,
   "id": "c1374eed",
   "metadata": {},
   "outputs": [],
   "source": [
    "# Drop the duplicate rows\n",
    "df.drop_duplicates(subset=['title', 'company_name'], keep='first', inplace=True)"
   ]
  },
  {
   "cell_type": "markdown",
   "id": "ad3ed165",
   "metadata": {},
   "source": [
    "## Create column: \"job_id\""
   ]
  },
  {
   "cell_type": "code",
   "execution_count": 7,
   "id": "113cb656",
   "metadata": {},
   "outputs": [],
   "source": [
    "df['job_id'] = range(1, len(df) + 1)"
   ]
  },
  {
   "cell_type": "markdown",
   "id": "a6a26787",
   "metadata": {},
   "source": [
    "## Cleaning column: \"title\""
   ]
  },
  {
   "cell_type": "code",
   "execution_count": 8,
   "id": "a6ff8879",
   "metadata": {},
   "outputs": [],
   "source": [
    "def clean_title(title):\n",
    "    title_lower = title.lower()\n",
    "    if 'machine' in title_lower:\n",
    "        return 'Machine Learning Engineer'\n",
    "    if 'artificial' in title_lower or 'AI' in title or 'ML' in title:\n",
    "        return 'Machine Learning Engineer'\n",
    "    elif 'cloud' in title_lower:\n",
    "        return 'Cloud Engineer'\n",
    "    elif 'software' in title_lower:\n",
    "        return 'Software Engineer'\n",
    "    elif 'dev' in title_lower:\n",
    "        return 'Software Engineer'\n",
    "    elif re.search(r'\\bBI\\b', title) or re.search(r'\\bbusiness\\s*(?!data\\s*)\\w*\\s*analyst\\b|\\bbusiness\\s*(?!data\\s*)\\w*\\s*intelligence\\b|\\bfinancial\\s*analyst\\b', title_lower):\n",
    "        return 'Business Analyst'\n",
    "    elif 'engineer' in title_lower and 'data' in title_lower:\n",
    "        return 'Data Engineer'\n",
    "    elif 'software' in title_lower:\n",
    "        return 'Software Engineer'\n",
    "    elif 'scien' in title_lower:\n",
    "        return 'Data Scientist'\n",
    "    elif 'cient' in title_lower:\n",
    "        return 'Data Scientist'\n",
    "    elif re.search(r'\\bdata\\b|\\banalytics?\\b', title_lower):\n",
    "        return 'Data Analyst'\n",
    "    elif re.search(r'\\bdata\\b.*\\b(analyst|analytics|analysis)\\b|\\banalytics?\\b', title_lower):\n",
    "        return 'Data Analyst'\n",
    "    elif 'system' in title_lower:\n",
    "        return 'Software Engineer'\n",
    "    elif 'program' in title_lower:\n",
    "        return 'Software Engineer'\n",
    "    elif 'ingen' in title_lower and 'datos' in title_lower:\n",
    "        return 'Data Engineer'\n",
    "    elif 'analista'in title_lower and 'datos' or 'digital' in title_lower:\n",
    "        return 'Data Analyst'\n",
    "    elif 'desarro' in title_lower:\n",
    "        return 'Software Engineer'\n",
    "    elif 'backend' in title_lower:\n",
    "        return 'Software Engineer'\n",
    "    elif 'frontend' in title_lower:\n",
    "        return 'Software Engineer'\n",
    "    elif 'full' in title_lower:\n",
    "        return 'Software Engineer'\n",
    "    \n",
    "    else:\n",
    "        return None"
   ]
  },
  {
   "cell_type": "code",
   "execution_count": 9,
   "id": "77699d1f",
   "metadata": {},
   "outputs": [],
   "source": [
    "# Apply the function and create the 'title_cleaned' column in clear data role categories \n",
    "df.loc[:, 'title_cleaned'] = df['title'].apply(clean_title)"
   ]
  },
  {
   "cell_type": "code",
   "execution_count": 11,
   "id": "c7138b15",
   "metadata": {
    "scrolled": true
   },
   "outputs": [
    {
     "data": {
      "text/plain": [
       "title_cleaned\n",
       "Software Engineer            455\n",
       "Data Analyst                 314\n",
       "Data Engineer                278\n",
       "Data Scientist               172\n",
       "Business Analyst             146\n",
       "Machine Learning Engineer     88\n",
       "Cloud Engineer                46\n",
       "Name: count, dtype: int64"
      ]
     },
     "execution_count": 11,
     "metadata": {},
     "output_type": "execute_result"
    }
   ],
   "source": [
    "df['title_cleaned'].value_counts()"
   ]
  },
  {
   "cell_type": "code",
   "execution_count": 10,
   "id": "87fbab14",
   "metadata": {
    "scrolled": false
   },
   "outputs": [
    {
     "data": {
      "text/plain": [
       "391"
      ]
     },
     "execution_count": 10,
     "metadata": {},
     "output_type": "execute_result"
    }
   ],
   "source": [
    "df['title_cleaned'].isnull().sum()"
   ]
  },
  {
   "cell_type": "code",
   "execution_count": 12,
   "id": "f4e19d3b",
   "metadata": {
    "scrolled": true
   },
   "outputs": [],
   "source": [
    "df.dropna(subset=['title_cleaned'], inplace=True)"
   ]
  },
  {
   "cell_type": "markdown",
   "id": "24c7ba4c",
   "metadata": {},
   "source": [
    "## Cleaning column: \"seniority_level\""
   ]
  },
  {
   "cell_type": "code",
   "execution_count": 13,
   "id": "08243a22",
   "metadata": {},
   "outputs": [],
   "source": [
    "df['seniority_level'] = df['seniority_level'].str.strip()"
   ]
  },
  {
   "cell_type": "code",
   "execution_count": 14,
   "id": "df7edd19",
   "metadata": {},
   "outputs": [],
   "source": [
    "replace_dict = {\n",
    "    'Mid-Senior level': 'Mid-Senior',\n",
    "    'Entry level': 'Junior',\n",
    "    'Associate': 'Junior',\n",
    "    'Not Applicable': 'Not-Specified',\n",
    "    'Internship': 'Internship',\n",
    "    'Director': 'Director',\n",
    "    'Executive': 'Manager',\n",
    "}\n",
    "\n",
    "df['seniority_level'] = df['seniority_level'].replace(replace_dict)"
   ]
  },
  {
   "cell_type": "code",
   "execution_count": 15,
   "id": "6612c79e",
   "metadata": {
    "scrolled": true
   },
   "outputs": [
    {
     "data": {
      "text/plain": [
       "seniority_level\n",
       "Junior           628\n",
       "Mid-Senior       574\n",
       "Not-Specified    204\n",
       "Internship        19\n",
       "Director           7\n",
       "Manager            5\n",
       "Name: count, dtype: int64"
      ]
     },
     "execution_count": 15,
     "metadata": {},
     "output_type": "execute_result"
    }
   ],
   "source": [
    "df['seniority_level'].value_counts()"
   ]
  },
  {
   "cell_type": "markdown",
   "id": "f0c0ba18",
   "metadata": {},
   "source": [
    "## Create column: \"experience_level\""
   ]
  },
  {
   "cell_type": "code",
   "execution_count": 16,
   "id": "24ede31e",
   "metadata": {
    "scrolled": true
   },
   "outputs": [],
   "source": [
    "def categorize_experience(title):\n",
    "    title_lower = title.lower()\n",
    "    if any(word in title_lower for word in [ 'intern','internship']):\n",
    "        return 'Internship'\n",
    "    elif any(word in title_lower for word in ['manager', 'executive', 'principal', 'staff']):\n",
    "        return 'Manager'\n",
    "    elif any(word in title_lower for word in ['director','associate director']):\n",
    "        return 'Director'\n",
    "    elif any(word in title_lower for word in ['mid-senior','mid level','mid-level','ii','specialist']):\n",
    "        return 'Mid-Senior'\n",
    "    elif any(word in title_lower for word in ['jr', 'jr.','junior','entry', 'associate','1']):\n",
    "        return 'Junior'\n",
    "    elif any(word in title_lower for word in ['sr.', 'sr', 'senior','exper','3','4','lead','steward']):\n",
    "        return 'Senior'\n",
    "    elif any(word in title for word in ['III','IV']):\n",
    "        return 'Senior'\n",
    "    elif 'II' in title:\n",
    "        return 'Mid-Senior'\n",
    "    elif re.search(r'\\bI\\b', title):\n",
    "        return 'Junior'\n",
    "    else:\n",
    "        return None"
   ]
  },
  {
   "cell_type": "code",
   "execution_count": 17,
   "id": "0ef7a47b",
   "metadata": {},
   "outputs": [],
   "source": [
    "# Apply the function to create the 'experience_level' column\n",
    "df['experience_level'] = df['title'].apply(categorize_experience)"
   ]
  },
  {
   "cell_type": "code",
   "execution_count": 18,
   "id": "9e95d9c1",
   "metadata": {
    "scrolled": false
   },
   "outputs": [
    {
     "data": {
      "text/plain": [
       "1028"
      ]
     },
     "execution_count": 18,
     "metadata": {},
     "output_type": "execute_result"
    }
   ],
   "source": [
    "df['experience_level'].isnull().sum()"
   ]
  },
  {
   "cell_type": "code",
   "execution_count": 19,
   "id": "292a9dc1",
   "metadata": {},
   "outputs": [],
   "source": [
    "# Fill null cells in 'experience_level' with values from 'seniority_level' where 'experience_level' is null\n",
    "df['experience_level'].fillna(df['seniority_level'], inplace=True)"
   ]
  },
  {
   "cell_type": "code",
   "execution_count": 20,
   "id": "2a1c7b0e",
   "metadata": {
    "scrolled": false
   },
   "outputs": [
    {
     "data": {
      "text/plain": [
       "40"
      ]
     },
     "execution_count": 20,
     "metadata": {},
     "output_type": "execute_result"
    }
   ],
   "source": [
    "df['experience_level'].isnull().sum()"
   ]
  },
  {
   "cell_type": "code",
   "execution_count": 21,
   "id": "1b8d0de3",
   "metadata": {},
   "outputs": [
    {
     "data": {
      "text/html": [
       "<div>\n",
       "<style scoped>\n",
       "    .dataframe tbody tr th:only-of-type {\n",
       "        vertical-align: middle;\n",
       "    }\n",
       "\n",
       "    .dataframe tbody tr th {\n",
       "        vertical-align: top;\n",
       "    }\n",
       "\n",
       "    .dataframe thead th {\n",
       "        text-align: right;\n",
       "    }\n",
       "</style>\n",
       "<table border=\"1\" class=\"dataframe\">\n",
       "  <thead>\n",
       "    <tr style=\"text-align: right;\">\n",
       "      <th></th>\n",
       "      <th>title</th>\n",
       "      <th>company_name</th>\n",
       "      <th>location</th>\n",
       "      <th>posted_time_ago</th>\n",
       "      <th>seniority_level</th>\n",
       "      <th>employment_type</th>\n",
       "      <th>job_function</th>\n",
       "      <th>industries</th>\n",
       "      <th>description</th>\n",
       "      <th>job_id</th>\n",
       "      <th>title_cleaned</th>\n",
       "      <th>experience_level</th>\n",
       "    </tr>\n",
       "  </thead>\n",
       "  <tbody>\n",
       "    <tr>\n",
       "      <th>0</th>\n",
       "      <td>Business Analyst (Bangkok Based  relocation pr...</td>\n",
       "      <td>Agoda</td>\n",
       "      <td>Barcelona  Catalonia  Spain    ...</td>\n",
       "      <td>...</td>\n",
       "      <td>Junior</td>\n",
       "      <td>Full-time</td>\n",
       "      <td>Research  Analyst  and Informatio...</td>\n",
       "      <td>Technology  Information and Interne...</td>\n",
       "      <td>About AgodaAgoda is an online travel bookin...</td>\n",
       "      <td>1</td>\n",
       "      <td>Business Analyst</td>\n",
       "      <td>Junior</td>\n",
       "    </tr>\n",
       "    <tr>\n",
       "      <th>1</th>\n",
       "      <td>Senior Data Analyst (Product Team) (Bangkok Ba...</td>\n",
       "      <td>Agoda</td>\n",
       "      <td>Barcelona  Catalonia  Spain    ...</td>\n",
       "      <td>...</td>\n",
       "      <td>Junior</td>\n",
       "      <td>Full-time</td>\n",
       "      <td>Information Technology</td>\n",
       "      <td>Technology  Information and Interne...</td>\n",
       "      <td>About AgodaAgoda is an online travel bookin...</td>\n",
       "      <td>2</td>\n",
       "      <td>Data Analyst</td>\n",
       "      <td>Senior</td>\n",
       "    </tr>\n",
       "  </tbody>\n",
       "</table>\n",
       "</div>"
      ],
      "text/plain": [
       "                                               title  \\\n",
       "0  Business Analyst (Bangkok Based  relocation pr...   \n",
       "1  Senior Data Analyst (Product Team) (Bangkok Ba...   \n",
       "\n",
       "                              company_name  \\\n",
       "0                    Agoda                   \n",
       "1                    Agoda                   \n",
       "\n",
       "                                            location  \\\n",
       "0                 Barcelona  Catalonia  Spain    ...   \n",
       "1                 Barcelona  Catalonia  Spain    ...   \n",
       "\n",
       "                                     posted_time_ago seniority_level  \\\n",
       "0                                                ...          Junior   \n",
       "1                                                ...          Junior   \n",
       "\n",
       "                 employment_type  \\\n",
       "0             Full-time            \n",
       "1             Full-time            \n",
       "\n",
       "                                        job_function  \\\n",
       "0               Research  Analyst  and Informatio...   \n",
       "1                  Information Technology              \n",
       "\n",
       "                                          industries  \\\n",
       "0             Technology  Information and Interne...   \n",
       "1             Technology  Information and Interne...   \n",
       "\n",
       "                                         description  job_id  \\\n",
       "0     About AgodaAgoda is an online travel bookin...       1   \n",
       "1     About AgodaAgoda is an online travel bookin...       2   \n",
       "\n",
       "      title_cleaned experience_level  \n",
       "0  Business Analyst           Junior  \n",
       "1      Data Analyst           Senior  "
      ]
     },
     "execution_count": 21,
     "metadata": {},
     "output_type": "execute_result"
    }
   ],
   "source": [
    "df.head(2)"
   ]
  },
  {
   "cell_type": "markdown",
   "id": "c03cbd50",
   "metadata": {},
   "source": [
    "## Creating a New Column: \"Role\""
   ]
  },
  {
   "cell_type": "code",
   "execution_count": 23,
   "id": "ca919c3a",
   "metadata": {},
   "outputs": [],
   "source": [
    "import numpy as np\n",
    "\n",
    "def get_role_name(row):\n",
    "    title_cleaned = row['title_cleaned']\n",
    "    experience_level = row['experience_level']\n",
    "    \n",
    "    if pd.isnull(experience_level) or experience_level == \"Not-Specified\":\n",
    "        return title_cleaned\n",
    "    elif pd.isnull(title_cleaned):\n",
    "        return None\n",
    "    else:\n",
    "        return f\"{title_cleaned} {experience_level}\" if not pd.isnull(experience_level) else title_cleaned"
   ]
  },
  {
   "cell_type": "code",
   "execution_count": 24,
   "id": "7e6319dd",
   "metadata": {},
   "outputs": [],
   "source": [
    "df['role'] = df.apply(get_role_name, axis=1)"
   ]
  },
  {
   "cell_type": "code",
   "execution_count": 25,
   "id": "32982b94",
   "metadata": {
    "scrolled": true
   },
   "outputs": [
    {
     "data": {
      "text/plain": [
       "array(['Business Analyst Junior', 'Data Analyst Senior',\n",
       "       'Data Analyst Junior', 'Business Analyst Mid-Senior',\n",
       "       'Business Analyst Internship', 'Software Engineer Mid-Senior',\n",
       "       'Data Engineer Junior', 'Data Engineer Senior', 'Business Analyst',\n",
       "       'Business Analyst Senior', 'Data Analyst Mid-Senior',\n",
       "       'Data Analyst Manager', 'Software Engineer Manager',\n",
       "       'Cloud Engineer Mid-Senior', 'Business Analyst Manager',\n",
       "       'Data Engineer Mid-Senior', 'Business Analyst Director',\n",
       "       'Software Engineer Junior', 'Data Scientist Mid-Senior',\n",
       "       'Data Scientist Junior', 'Data Analyst Director', 'Data Engineer',\n",
       "       'Software Engineer', 'Software Engineer Internship',\n",
       "       'Data Analyst', 'Software Engineer Senior',\n",
       "       'Data Scientist Senior', 'Cloud Engineer Junior', 'Data Scientist',\n",
       "       'Data Analyst Internship', 'Data Scientist Internship',\n",
       "       'Machine Learning Engineer Junior', 'Cloud Engineer Senior',\n",
       "       'Machine Learning Engineer Senior', 'Data Engineer Internship',\n",
       "       'Machine Learning Engineer Mid-Senior', 'Data Scientist Manager',\n",
       "       'Cloud Engineer', 'Data Engineer Manager',\n",
       "       'Software Engineer Director', 'Cloud Engineer Internship',\n",
       "       'Machine Learning Engineer Manager', 'Data Scientist Director',\n",
       "       'Machine Learning Engineer', 'Machine Learning Engineer Director'],\n",
       "      dtype=object)"
      ]
     },
     "execution_count": 25,
     "metadata": {},
     "output_type": "execute_result"
    }
   ],
   "source": [
    "df['role'].unique()"
   ]
  },
  {
   "cell_type": "markdown",
   "id": "6a50a1f4",
   "metadata": {},
   "source": [
    "## Cleaning column: \"location\""
   ]
  },
  {
   "cell_type": "code",
   "execution_count": 27,
   "id": "5c2781ac",
   "metadata": {},
   "outputs": [],
   "source": [
    "# Convert the column to lowercase for case-insensitive matching\n",
    "df.loc[:, 'location'] = df['location'].str.lower()\n",
    "\n",
    "# Set conditions for replacing values\n",
    "condition_catalonia = df['location'].str.contains('barcelona|catalonia|manresa|granollers', case=False)\n",
    "condition_madrid = df['location'].str.contains('madrid', case=False)\n",
    "\n",
    "# Replace values based on conditions using .loc to avoid SettingWithCopyWarning\n",
    "df.loc[condition_catalonia, 'location'] = 'Catalonia'\n",
    "df.loc[condition_madrid, 'location'] = 'Madrid'"
   ]
  },
  {
   "cell_type": "markdown",
   "id": "0ae145aa",
   "metadata": {},
   "source": [
    "## Creating new column: \"via\""
   ]
  },
  {
   "cell_type": "code",
   "execution_count": 28,
   "id": "caf944e5",
   "metadata": {},
   "outputs": [],
   "source": [
    "df['via'] = 'Linkedin'"
   ]
  },
  {
   "cell_type": "markdown",
   "id": "d2a8c7eb",
   "metadata": {},
   "source": [
    "## Cleaning column: \"employment_type\""
   ]
  },
  {
   "cell_type": "code",
   "execution_count": 29,
   "id": "0df798bd",
   "metadata": {},
   "outputs": [],
   "source": [
    "# Changing name to have similar columns to the US dataset\n",
    "df = df.rename(columns={'employment_type': 'schedule_type'})"
   ]
  },
  {
   "cell_type": "code",
   "execution_count": 30,
   "id": "550017a9",
   "metadata": {},
   "outputs": [],
   "source": [
    "df['schedule_type'] = df['schedule_type'].str.strip()"
   ]
  },
  {
   "cell_type": "code",
   "execution_count": 31,
   "id": "33a13d47",
   "metadata": {},
   "outputs": [],
   "source": [
    "df['schedule_type'] = df['schedule_type'].replace({\n",
    "    'Other': 'Full-time',\n",
    "    'Temporary': 'Contractor',\n",
    "    'Contract': 'Contractor'})"
   ]
  },
  {
   "cell_type": "code",
   "execution_count": 32,
   "id": "e3e8bb3b",
   "metadata": {
    "scrolled": true
   },
   "outputs": [
    {
     "data": {
      "text/plain": [
       "schedule_type\n",
       "Full-time     1431\n",
       "Contractor      47\n",
       "Part-time       13\n",
       "Internship       8\n",
       "Name: count, dtype: int64"
      ]
     },
     "execution_count": 32,
     "metadata": {},
     "output_type": "execute_result"
    }
   ],
   "source": [
    "df['schedule_type'].value_counts()"
   ]
  },
  {
   "cell_type": "markdown",
   "id": "54c2279b",
   "metadata": {},
   "source": [
    "## Cleaning column: \"posted_time_ago\""
   ]
  },
  {
   "cell_type": "code",
   "execution_count": 33,
   "id": "8d4a52e0",
   "metadata": {},
   "outputs": [],
   "source": [
    "# Remove leading and trailing whitespace from 'posted_time_ago' column\n",
    "df['posted_time_ago'] = df['posted_time_ago'].str.strip()"
   ]
  },
  {
   "cell_type": "code",
   "execution_count": 34,
   "id": "443e4a62",
   "metadata": {},
   "outputs": [],
   "source": [
    "from datetime import datetime\n",
    "\n",
    "# Dictionary to map time units to their corresponding pandas timedelta arguments\n",
    "time_units = {\n",
    "    'month': 'D',  # Change to 'D' to avoid ambiguity\n",
    "    'year': 'D',  # Change to 'D' to avoid ambiguity\n",
    "    'week': 'W',\n",
    "    'day': 'D',\n",
    "    'hour': 'h',\n",
    "    'minute': 'm',\n",
    "    'second': 's'\n",
    "}\n",
    "\n",
    "# Function to convert time strings to timedelta\n",
    "def time_string_to_timedelta(time_str):\n",
    "    # Extract numerical value and unit\n",
    "    value, unit, _ = time_str.split()\n",
    "    # Convert value to an integer\n",
    "    value = int(value)\n",
    "    # Remove 's' (plural) if present \n",
    "    unit = unit.rstrip('s')\n",
    "    # Map the unit to the corresponding timedelta argument\n",
    "    unit = time_units.get(unit.lower()) \n",
    "    # Create timedelta object\n",
    "    return pd.to_timedelta(value, unit=unit)"
   ]
  },
  {
   "cell_type": "code",
   "execution_count": 35,
   "id": "cc309e67",
   "metadata": {
    "scrolled": false
   },
   "outputs": [
    {
     "name": "stdout",
     "output_type": "stream",
     "text": [
      "     posted_time_ago posted_date\n",
      "0        2 weeks ago  2023-11-21\n",
      "1         1 week ago  2023-11-28\n",
      "2         3 days ago  2023-12-02\n",
      "3         1 week ago  2023-11-28\n",
      "4         1 week ago  2023-11-28\n",
      "...              ...         ...\n",
      "3114    5 months ago  2023-11-30\n",
      "3118     3 weeks ago  2023-11-14\n",
      "3119    6 months ago  2023-11-29\n",
      "3120      4 days ago  2023-12-01\n",
      "3122     3 weeks ago  2023-11-14\n",
      "\n",
      "[1499 rows x 2 columns]\n"
     ]
    }
   ],
   "source": [
    "# Apply the function to create a new column with timedelta values\n",
    "df['time_difference'] = df['posted_time_ago'].apply(time_string_to_timedelta)\n",
    "\n",
    "# Calculate the date when the job was posted (03.Dec.2023 is the reference date)\n",
    "today = pd.to_datetime(datetime.now().date())\n",
    "df['posted_date'] = today - df['time_difference']\n",
    "\n",
    "print(df[['posted_time_ago', 'posted_date']])"
   ]
  },
  {
   "cell_type": "code",
   "execution_count": 36,
   "id": "98d1ddc4",
   "metadata": {},
   "outputs": [
    {
     "data": {
      "text/plain": [
       "title                        object\n",
       "company_name                 object\n",
       "location                     object\n",
       "posted_time_ago              object\n",
       "seniority_level              object\n",
       "schedule_type                object\n",
       "job_function                 object\n",
       "industries                   object\n",
       "description                  object\n",
       "job_id                        int64\n",
       "title_cleaned                object\n",
       "experience_level             object\n",
       "role                         object\n",
       "via                          object\n",
       "time_difference     timedelta64[ns]\n",
       "posted_date          datetime64[ns]\n",
       "dtype: object"
      ]
     },
     "execution_count": 36,
     "metadata": {},
     "output_type": "execute_result"
    }
   ],
   "source": [
    "df.dtypes"
   ]
  },
  {
   "cell_type": "markdown",
   "id": "d8e32ffe",
   "metadata": {},
   "source": [
    "## Creating column: \"skills\""
   ]
  },
  {
   "cell_type": "code",
   "execution_count": 37,
   "id": "cd147cea",
   "metadata": {
    "scrolled": true
   },
   "outputs": [
    {
     "name": "stderr",
     "output_type": "stream",
     "text": [
      "[nltk_data] Downloading package punkt to\n",
      "[nltk_data]     /Users/mairagutierrez/nltk_data...\n",
      "[nltk_data]   Package punkt is already up-to-date!\n",
      "[nltk_data] Downloading package stopwords to\n",
      "[nltk_data]     /Users/mairagutierrez/nltk_data...\n",
      "[nltk_data]   Package stopwords is already up-to-date!\n"
     ]
    }
   ],
   "source": [
    "import nltk\n",
    "from nltk.tokenize import word_tokenize\n",
    "from nltk.corpus import stopwords\n",
    "\n",
    "# Ensure NLTK resources are downloaded\n",
    "nltk.download('punkt')\n",
    "nltk.download('stopwords')\n",
    "\n",
    "# Define the function to tokenize descriptions and remove stopwords\n",
    "def tokenize_and_remove_stopwords(description):\n",
    "    # Convert to lowercase and tokenize\n",
    "    tokens = word_tokenize(description.lower())\n",
    "    # Remove non-alphabetic tokens and stopwords\n",
    "    return [token for token in tokens if token.isalpha() and token not in stop_words]\n",
    "\n",
    "# Set of English stopwords\n",
    "stop_words = set(stopwords.words('english'))\n",
    "\n",
    "# Tokenize the descriptions and remove stopwords\n",
    "df['description_tokens'] = df['description'].apply(tokenize_and_remove_stopwords)\n",
    "\n",
    "# Define a list of technical skills relevant to data roles\n",
    "skills_list = [ \"tableau\",\"excel\",\"power_bi\",\"sas\",\"word\",\"powerpoint\",\"sap\",\"ssis\",\"looker\",\"qlik\",\"alteryx\",\n",
    "    \"spss\",\"ssrs\",\"outlook\",\"dax\",\"sharepoint\",\"splunk\",\"microstrategy\",\"cognos\",\"visio\",\"google sheets\",\"spreadsheet\",\n",
    "    \"ms access\",\"datarobot\",\"sql server\",\"mysql\",\"cassandra\",\"postgresql\",\"mongodb\",\"elasticsearch\",\"dynamodb\",\"redis\",\"db2\",\"neo4j\",\n",
    "    \"mariadb\",\"firebase\",\"couchbase\",\"sqlite\",\"firestore\",\"couchdb\",\"aws\",\"azure\",\"snowflake\",\"databricks\",\"redshift\",\"gcp\",\"oracle\",\"bigquery\",\"aurora\",\n",
    "    \"vmware\",\"ibm cloud\",\"firebase\",\"watson\",\"openstack\",\"heroku\",\"digital ocean\", \"colocation\",\"ovh\",\"linode\",\"spark\",\"hadoop\",\"kafka\",\"airflow\",\"pyspark\",\"pandas\",\"tensorflow\",\"pytorch\",\"numpy\",\"scikit-learn\",\n",
    "    \"keras\",\"jupyter\",\"react\",\"matplotlib\",\"spring\",\"gdpr\",\"plotly\",\"seaborn\",\"graphql\",\"nltk\",\"opencv\",\"ggplot2\",\n",
    "    \"selenium\",\"mxnet\",\"tidyverse\",\"express\",\"node.js\",\"angular\",\"flask\",\"ruby\",\"django\",\"vue.js\",\"phoenix\",\"fastapi\",\"jquery\",\n",
    "    \"asp.net\",\"ruby on rails\", \"react\",\"laravel\",\"angular.js\", \"asp.net core\", \"next.js\",\"drupal\",\"svelte\",\n",
    "    \"symfony\",\"blazor\",\"play framework\",  \"gatsby\",\"python\",\"sql\",\"r\",\"java\",\"scala\",\"nosql\",\"sas\",\"go\",\"mongodb\",\"shell\",\"javascript\",\"c++\",\"c#\",\"c\",\n",
    "    \"matlab\",\"vba\",\"bash\",\"t-sql\",\"powershell\",\"html\",\"perl\",\"css\",\"ruby\",\"typescript\", 'deep learning',\n",
    "    'machine learning', 'nlp', 'statistics', 'data mining', 'data visualization', 'big data', 'data analysis']  # Your list of skills\n",
    "\n",
    "# Function to extract skills from the tokenized descriptions\n",
    "def extract_skills(description_tokens):\n",
    "    return [skill for skill in skills_list if skill in description_tokens]\n"
   ]
  },
  {
   "cell_type": "code",
   "execution_count": 38,
   "id": "f569073a",
   "metadata": {
    "scrolled": false
   },
   "outputs": [
    {
     "data": {
      "text/plain": [
       "0       [tableau, excel, sas, spss, python, sql, r, sa...\n",
       "1            [tableau, excel, python, sql, r, statistics]\n",
       "2       [tableau, excel, aws, redshift, python, sql, vba]\n",
       "3                                         [microstrategy]\n",
       "4                             [tableau, looker, dax, sql]\n",
       "                              ...                        \n",
       "3114                                          [python, c]\n",
       "3118    [postgresql, redis, aws, pandas, flask, django...\n",
       "3119            [pandas, pytorch, numpy, sql, statistics]\n",
       "3120                            [python, sql, statistics]\n",
       "3122                                                   []\n",
       "Name: extracted_skills, Length: 1499, dtype: object"
      ]
     },
     "execution_count": 38,
     "metadata": {},
     "output_type": "execute_result"
    }
   ],
   "source": [
    "# Create a new column with the extracted skills for each row\n",
    "df['extracted_skills'] = df['description_tokens'].apply(extract_skills)\n",
    "\n",
    "# Display the updated dataframe with the new 'extracted_skills' column\n",
    "df['extracted_skills']"
   ]
  },
  {
   "cell_type": "code",
   "execution_count": 39,
   "id": "6bd545fc",
   "metadata": {},
   "outputs": [
    {
     "data": {
      "text/html": [
       "<div>\n",
       "<style scoped>\n",
       "    .dataframe tbody tr th:only-of-type {\n",
       "        vertical-align: middle;\n",
       "    }\n",
       "\n",
       "    .dataframe tbody tr th {\n",
       "        vertical-align: top;\n",
       "    }\n",
       "\n",
       "    .dataframe thead th {\n",
       "        text-align: right;\n",
       "    }\n",
       "</style>\n",
       "<table border=\"1\" class=\"dataframe\">\n",
       "  <thead>\n",
       "    <tr style=\"text-align: right;\">\n",
       "      <th></th>\n",
       "      <th>title</th>\n",
       "      <th>company_name</th>\n",
       "      <th>location</th>\n",
       "      <th>posted_time_ago</th>\n",
       "      <th>seniority_level</th>\n",
       "      <th>schedule_type</th>\n",
       "      <th>job_function</th>\n",
       "      <th>industries</th>\n",
       "      <th>description</th>\n",
       "      <th>job_id</th>\n",
       "      <th>title_cleaned</th>\n",
       "      <th>experience_level</th>\n",
       "      <th>role</th>\n",
       "      <th>via</th>\n",
       "      <th>time_difference</th>\n",
       "      <th>posted_date</th>\n",
       "      <th>description_tokens</th>\n",
       "      <th>extracted_skills</th>\n",
       "    </tr>\n",
       "  </thead>\n",
       "  <tbody>\n",
       "    <tr>\n",
       "      <th>0</th>\n",
       "      <td>Business Analyst (Bangkok Based  relocation pr...</td>\n",
       "      <td>Agoda</td>\n",
       "      <td>Catalonia</td>\n",
       "      <td>2 weeks ago</td>\n",
       "      <td>Junior</td>\n",
       "      <td>Full-time</td>\n",
       "      <td>Research  Analyst  and Informatio...</td>\n",
       "      <td>Technology  Information and Interne...</td>\n",
       "      <td>About AgodaAgoda is an online travel bookin...</td>\n",
       "      <td>1</td>\n",
       "      <td>Business Analyst</td>\n",
       "      <td>Junior</td>\n",
       "      <td>Business Analyst Junior</td>\n",
       "      <td>Linkedin</td>\n",
       "      <td>14 days</td>\n",
       "      <td>2023-11-21</td>\n",
       "      <td>[agodaagoda, online, travel, booking, platform...</td>\n",
       "      <td>[tableau, excel, sas, spss, python, sql, r, sa...</td>\n",
       "    </tr>\n",
       "  </tbody>\n",
       "</table>\n",
       "</div>"
      ],
      "text/plain": [
       "                                               title  \\\n",
       "0  Business Analyst (Bangkok Based  relocation pr...   \n",
       "\n",
       "                              company_name   location posted_time_ago  \\\n",
       "0                    Agoda                  Catalonia     2 weeks ago   \n",
       "\n",
       "  seniority_level schedule_type  \\\n",
       "0          Junior     Full-time   \n",
       "\n",
       "                                        job_function  \\\n",
       "0               Research  Analyst  and Informatio...   \n",
       "\n",
       "                                          industries  \\\n",
       "0             Technology  Information and Interne...   \n",
       "\n",
       "                                         description  job_id  \\\n",
       "0     About AgodaAgoda is an online travel bookin...       1   \n",
       "\n",
       "      title_cleaned experience_level                     role       via  \\\n",
       "0  Business Analyst           Junior  Business Analyst Junior  Linkedin   \n",
       "\n",
       "  time_difference posted_date  \\\n",
       "0         14 days  2023-11-21   \n",
       "\n",
       "                                  description_tokens  \\\n",
       "0  [agodaagoda, online, travel, booking, platform...   \n",
       "\n",
       "                                    extracted_skills  \n",
       "0  [tableau, excel, sas, spss, python, sql, r, sa...  "
      ]
     },
     "execution_count": 39,
     "metadata": {},
     "output_type": "execute_result"
    }
   ],
   "source": [
    "df.head(1)"
   ]
  },
  {
   "cell_type": "markdown",
   "id": "4fdf35c3",
   "metadata": {},
   "source": [
    "## Make uniform my datasets"
   ]
  },
  {
   "cell_type": "code",
   "execution_count": 40,
   "id": "c55149f1",
   "metadata": {
    "scrolled": true
   },
   "outputs": [],
   "source": [
    "columns_to_drop = ['seniority_level','posted_time_ago','time_difference','description_tokens','industries','description']\n",
    "df.drop(columns=columns_to_drop , inplace=True)"
   ]
  },
  {
   "cell_type": "code",
   "execution_count": 41,
   "id": "f910304e",
   "metadata": {},
   "outputs": [],
   "source": [
    "# Create work_modality column so that it has the same columns to evaluate in mysql\n",
    "\n",
    "df['work_modality'] = None\n",
    "df['salary_standardized'] = None"
   ]
  },
  {
   "cell_type": "code",
   "execution_count": 42,
   "id": "fa5479a1",
   "metadata": {},
   "outputs": [],
   "source": [
    "# Rearrenged columns\n",
    "new_order = ['job_id','title','experience_level','title_cleaned','role','work_modality','company_name','location','via','schedule_type','salary_standardized','posted_date','extracted_skills']\n",
    "df = df[new_order]"
   ]
  },
  {
   "cell_type": "code",
   "execution_count": 43,
   "id": "f635633b",
   "metadata": {
    "scrolled": false
   },
   "outputs": [
    {
     "data": {
      "text/plain": [
       "Index(['job_id', 'title', 'experience_level', 'title_cleaned', 'role',\n",
       "       'work_modality', 'company_name', 'location', 'via', 'schedule_type',\n",
       "       'salary_standardized', 'posted_date', 'extracted_skills'],\n",
       "      dtype='object')"
      ]
     },
     "execution_count": 43,
     "metadata": {},
     "output_type": "execute_result"
    }
   ],
   "source": [
    "df.columns"
   ]
  },
  {
   "cell_type": "code",
   "execution_count": 44,
   "id": "8de5397c",
   "metadata": {},
   "outputs": [
    {
     "data": {
      "text/html": [
       "<div>\n",
       "<style scoped>\n",
       "    .dataframe tbody tr th:only-of-type {\n",
       "        vertical-align: middle;\n",
       "    }\n",
       "\n",
       "    .dataframe tbody tr th {\n",
       "        vertical-align: top;\n",
       "    }\n",
       "\n",
       "    .dataframe thead th {\n",
       "        text-align: right;\n",
       "    }\n",
       "</style>\n",
       "<table border=\"1\" class=\"dataframe\">\n",
       "  <thead>\n",
       "    <tr style=\"text-align: right;\">\n",
       "      <th></th>\n",
       "      <th>job_id</th>\n",
       "      <th>title</th>\n",
       "      <th>experience_level</th>\n",
       "      <th>title_cleaned</th>\n",
       "      <th>role</th>\n",
       "      <th>work_modality</th>\n",
       "      <th>company_name</th>\n",
       "      <th>location</th>\n",
       "      <th>via</th>\n",
       "      <th>schedule_type</th>\n",
       "      <th>salary_standardized</th>\n",
       "      <th>posted_date</th>\n",
       "      <th>extracted_skills</th>\n",
       "    </tr>\n",
       "  </thead>\n",
       "  <tbody>\n",
       "    <tr>\n",
       "      <th>4</th>\n",
       "      <td>5</td>\n",
       "      <td>Data Engineer (Power BI)</td>\n",
       "      <td>Mid-Senior</td>\n",
       "      <td>Business Analyst</td>\n",
       "      <td>Business Analyst Mid-Senior</td>\n",
       "      <td>None</td>\n",
       "      <td>Q-tech</td>\n",
       "      <td>Catalonia</td>\n",
       "      <td>Linkedin</td>\n",
       "      <td>Full-time</td>\n",
       "      <td>None</td>\n",
       "      <td>2023-11-28</td>\n",
       "      <td>[tableau, looker, dax, sql]</td>\n",
       "    </tr>\n",
       "    <tr>\n",
       "      <th>2078</th>\n",
       "      <td>1316</td>\n",
       "      <td>Digital Marketing Data Analyst</td>\n",
       "      <td>Mid-Senior</td>\n",
       "      <td>Data Analyst</td>\n",
       "      <td>Data Analyst Mid-Senior</td>\n",
       "      <td>None</td>\n",
       "      <td>Darkroom</td>\n",
       "      <td>Madrid</td>\n",
       "      <td>Linkedin</td>\n",
       "      <td>Full-time</td>\n",
       "      <td>None</td>\n",
       "      <td>2023-11-28</td>\n",
       "      <td>[python, sql]</td>\n",
       "    </tr>\n",
       "  </tbody>\n",
       "</table>\n",
       "</div>"
      ],
      "text/plain": [
       "      job_id                           title experience_level  \\\n",
       "4          5        Data Engineer (Power BI)       Mid-Senior   \n",
       "2078    1316  Digital Marketing Data Analyst       Mid-Senior   \n",
       "\n",
       "         title_cleaned                         role work_modality  \\\n",
       "4     Business Analyst  Business Analyst Mid-Senior          None   \n",
       "2078      Data Analyst      Data Analyst Mid-Senior          None   \n",
       "\n",
       "                                    company_name   location       via  \\\n",
       "4                         Q-tech                  Catalonia  Linkedin   \n",
       "2078                    Darkroom                     Madrid  Linkedin   \n",
       "\n",
       "     schedule_type salary_standardized posted_date  \\\n",
       "4        Full-time                None  2023-11-28   \n",
       "2078     Full-time                None  2023-11-28   \n",
       "\n",
       "                 extracted_skills  \n",
       "4     [tableau, looker, dax, sql]  \n",
       "2078                [python, sql]  "
      ]
     },
     "execution_count": 44,
     "metadata": {},
     "output_type": "execute_result"
    }
   ],
   "source": [
    "df.sample(2)"
   ]
  },
  {
   "cell_type": "markdown",
   "id": "44ddeee5",
   "metadata": {},
   "source": [
    "## Create search_location column"
   ]
  },
  {
   "cell_type": "code",
   "execution_count": 45,
   "id": "8584ca45",
   "metadata": {},
   "outputs": [],
   "source": [
    "df['search_location']='Spain'"
   ]
  },
  {
   "cell_type": "markdown",
   "id": "1ec44a40",
   "metadata": {},
   "source": [
    "## Save Dataframe: Job Posts"
   ]
  },
  {
   "cell_type": "code",
   "execution_count": 46,
   "id": "af40540c",
   "metadata": {},
   "outputs": [],
   "source": [
    "df.to_csv('../data/spain_jobposts.csv', index=False) "
   ]
  },
  {
   "cell_type": "code",
   "execution_count": 47,
   "id": "02d3b313",
   "metadata": {},
   "outputs": [
    {
     "data": {
      "text/html": [
       "<div>\n",
       "<style scoped>\n",
       "    .dataframe tbody tr th:only-of-type {\n",
       "        vertical-align: middle;\n",
       "    }\n",
       "\n",
       "    .dataframe tbody tr th {\n",
       "        vertical-align: top;\n",
       "    }\n",
       "\n",
       "    .dataframe thead th {\n",
       "        text-align: right;\n",
       "    }\n",
       "</style>\n",
       "<table border=\"1\" class=\"dataframe\">\n",
       "  <thead>\n",
       "    <tr style=\"text-align: right;\">\n",
       "      <th></th>\n",
       "      <th>job_id</th>\n",
       "      <th>title</th>\n",
       "      <th>experience_level</th>\n",
       "      <th>title_cleaned</th>\n",
       "      <th>role</th>\n",
       "      <th>work_modality</th>\n",
       "      <th>company_name</th>\n",
       "      <th>location</th>\n",
       "      <th>via</th>\n",
       "      <th>schedule_type</th>\n",
       "      <th>salary_standardized</th>\n",
       "      <th>posted_date</th>\n",
       "      <th>extracted_skills</th>\n",
       "      <th>search_location</th>\n",
       "    </tr>\n",
       "  </thead>\n",
       "  <tbody>\n",
       "    <tr>\n",
       "      <th>0</th>\n",
       "      <td>1</td>\n",
       "      <td>Business Analyst (Bangkok Based  relocation pr...</td>\n",
       "      <td>Junior</td>\n",
       "      <td>Business Analyst</td>\n",
       "      <td>Business Analyst Junior</td>\n",
       "      <td>None</td>\n",
       "      <td>Agoda</td>\n",
       "      <td>Catalonia</td>\n",
       "      <td>Linkedin</td>\n",
       "      <td>Full-time</td>\n",
       "      <td>None</td>\n",
       "      <td>2023-11-21</td>\n",
       "      <td>[tableau, excel, sas, spss, python, sql, r, sa...</td>\n",
       "      <td>Spain</td>\n",
       "    </tr>\n",
       "    <tr>\n",
       "      <th>1</th>\n",
       "      <td>2</td>\n",
       "      <td>Senior Data Analyst (Product Team) (Bangkok Ba...</td>\n",
       "      <td>Senior</td>\n",
       "      <td>Data Analyst</td>\n",
       "      <td>Data Analyst Senior</td>\n",
       "      <td>None</td>\n",
       "      <td>Agoda</td>\n",
       "      <td>Catalonia</td>\n",
       "      <td>Linkedin</td>\n",
       "      <td>Full-time</td>\n",
       "      <td>None</td>\n",
       "      <td>2023-11-28</td>\n",
       "      <td>[tableau, excel, python, sql, r, statistics]</td>\n",
       "      <td>Spain</td>\n",
       "    </tr>\n",
       "  </tbody>\n",
       "</table>\n",
       "</div>"
      ],
      "text/plain": [
       "   job_id                                              title experience_level  \\\n",
       "0       1  Business Analyst (Bangkok Based  relocation pr...           Junior   \n",
       "1       2  Senior Data Analyst (Product Team) (Bangkok Ba...           Senior   \n",
       "\n",
       "      title_cleaned                     role work_modality  \\\n",
       "0  Business Analyst  Business Analyst Junior          None   \n",
       "1      Data Analyst      Data Analyst Senior          None   \n",
       "\n",
       "                              company_name   location       via schedule_type  \\\n",
       "0                    Agoda                  Catalonia  Linkedin     Full-time   \n",
       "1                    Agoda                  Catalonia  Linkedin     Full-time   \n",
       "\n",
       "  salary_standardized posted_date  \\\n",
       "0                None  2023-11-21   \n",
       "1                None  2023-11-28   \n",
       "\n",
       "                                    extracted_skills search_location  \n",
       "0  [tableau, excel, sas, spss, python, sql, r, sa...           Spain  \n",
       "1       [tableau, excel, python, sql, r, statistics]           Spain  "
      ]
     },
     "execution_count": 47,
     "metadata": {},
     "output_type": "execute_result"
    }
   ],
   "source": [
    "df.head(2)"
   ]
  },
  {
   "cell_type": "code",
   "execution_count": 49,
   "id": "4e448225",
   "metadata": {},
   "outputs": [
    {
     "data": {
      "text/plain": [
       "(1499, 14)"
      ]
     },
     "execution_count": 49,
     "metadata": {},
     "output_type": "execute_result"
    }
   ],
   "source": [
    "df.shape"
   ]
  },
  {
   "cell_type": "code",
   "execution_count": null,
   "id": "3a19ec28",
   "metadata": {},
   "outputs": [],
   "source": []
  }
 ],
 "metadata": {
  "kernelspec": {
   "display_name": "ironhack",
   "language": "python",
   "name": "ironhack"
  },
  "language_info": {
   "codemirror_mode": {
    "name": "ipython",
    "version": 3
   },
   "file_extension": ".py",
   "mimetype": "text/x-python",
   "name": "python",
   "nbconvert_exporter": "python",
   "pygments_lexer": "ipython3",
   "version": "3.11.5"
  }
 },
 "nbformat": 4,
 "nbformat_minor": 5
}
